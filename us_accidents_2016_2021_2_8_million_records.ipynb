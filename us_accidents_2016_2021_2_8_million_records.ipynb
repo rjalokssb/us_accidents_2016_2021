{
  "cells": [
    {
      "cell_type": "markdown",
      "metadata": {
        "id": "view-in-github",
        "colab_type": "text"
      },
      "source": [
        "<a href=\"https://colab.research.google.com/github/rjalokssb/us_accidents_2016_2021/blob/main/us_accidents_2016_2021_2_8_million_records.ipynb\" target=\"_parent\"><img src=\"https://colab.research.google.com/assets/colab-badge.svg\" alt=\"Open In Colab\"/></a>"
      ]
    },
    {
      "cell_type": "code",
      "source": [
        "!pip install jovian --upgrade -q\n",
        "import jovian\n",
        "jovian.commit()"
      ],
      "metadata": {
        "colab": {
          "base_uri": "https://localhost:8080/"
        },
        "id": "RFlNvuYJ0-uA",
        "outputId": "b690c7f3-1055-4b06-8404-d26cdab043ad"
      },
      "execution_count": null,
      "outputs": [
        {
          "output_type": "stream",
          "name": "stdout",
          "text": [
            "\u001b[?25l     \u001b[90m━━━━━━━━━━━━━━━━━━━━━━━━━━━━━━━━━━━━━━━━\u001b[0m \u001b[32m0.0/68.6 KB\u001b[0m \u001b[31m?\u001b[0m eta \u001b[36m-:--:--\u001b[0m\r\u001b[2K     \u001b[90m━━━━━━━━━━━━━━━━━━━━━━━━━━━━━━━━━━━━━━━━\u001b[0m \u001b[32m68.6/68.6 KB\u001b[0m \u001b[31m3.7 MB/s\u001b[0m eta \u001b[36m0:00:00\u001b[0m\n",
            "\u001b[?25h  Preparing metadata (setup.py) ... \u001b[?25l\u001b[?25hdone\n",
            "  Building wheel for uuid (setup.py) ... \u001b[?25l\u001b[?25hdone\n",
            "[jovian] Detected Colab notebook...\u001b[0m\n",
            "[jovian] jovian.commit() is no longer required on Google Colab. If you ran this notebook from Jovian, \n",
            "then just save this file in Colab using Ctrl+S/Cmd+S and it will be updated on Jovian. \n",
            "Also, you can also delete this cell, it's no longer necessary.\u001b[0m\n"
          ]
        }
      ]
    },
    {
      "cell_type": "markdown",
      "source": [
        "# US Accident Exploratory Data Analysis\n",
        "\n",
        "TODO - talk about EDA\n",
        "\n",
        "TODO - talk about dataset ( source, what it contains, how it wil be useful)\n",
        "   - Kaggle\n",
        "   - information about accident\n",
        "   - can useful to prevent accident\n"
      ],
      "metadata": {
        "id": "7pXHqUjx1W6A"
      }
    },
    {
      "cell_type": "markdown",
      "source": [
        "## Download the Data"
      ],
      "metadata": {
        "id": "T1yMUbPZ1zo1"
      }
    },
    {
      "cell_type": "code",
      "source": [
        "pip install opendatasets --upgrade --quiet"
      ],
      "metadata": {
        "id": "4kR5Bkzd1h-E"
      },
      "execution_count": null,
      "outputs": []
    },
    {
      "cell_type": "code",
      "source": [
        "import opendatasets as od\n",
        "\n",
        "download_url = 'https://www.kaggle.com/datasets/sobhanmoosavi/us-accidents'\n",
        "\n",
        "od.download(download_url)"
      ],
      "metadata": {
        "colab": {
          "base_uri": "https://localhost:8080/"
        },
        "id": "xWVvYGET1h6S",
        "outputId": "14e63f36-82b7-4772-fd30-0305660c3a9b"
      },
      "execution_count": null,
      "outputs": [
        {
          "output_type": "stream",
          "name": "stdout",
          "text": [
            "Downloading us-accidents.zip to ./us-accidents\n"
          ]
        },
        {
          "output_type": "stream",
          "name": "stderr",
          "text": [
            "100%|██████████| 269M/269M [00:02<00:00, 108MB/s]\n"
          ]
        },
        {
          "output_type": "stream",
          "name": "stdout",
          "text": [
            "\n"
          ]
        }
      ]
    },
    {
      "cell_type": "code",
      "source": [
        "data_filename = '/content/us-accidents/US_Accidents_Dec21_updated.csv'"
      ],
      "metadata": {
        "id": "7O4AYOfk34cu"
      },
      "execution_count": null,
      "outputs": []
    },
    {
      "cell_type": "markdown",
      "source": [
        "## Data Preparation and Cleaning\n",
        "\n",
        "1. Load the Data\n",
        "2. Look at some information about the data & columns\n",
        "3. Fix any missing & incorrect values"
      ],
      "metadata": {
        "id": "eniq_3eU1i0-"
      }
    },
    {
      "cell_type": "code",
      "source": [
        "import pandas as pd\n",
        "df = pd.read_csv(data_filename)\n",
        "df"
      ],
      "metadata": {
        "colab": {
          "base_uri": "https://localhost:8080/",
          "height": 939
        },
        "id": "nkTeeSPE1kGN",
        "outputId": "70de83ce-a958-4172-d685-dfcf5e5bac60"
      },
      "execution_count": null,
      "outputs": [
        {
          "output_type": "execute_result",
          "data": {
            "text/plain": [
              "                ID  Severity           Start_Time             End_Time  \\\n",
              "0              A-1         3  2016-02-08 00:37:08  2016-02-08 06:37:08   \n",
              "1              A-2         2  2016-02-08 05:56:20  2016-02-08 11:56:20   \n",
              "2              A-3         2  2016-02-08 06:15:39  2016-02-08 12:15:39   \n",
              "3              A-4         2  2016-02-08 06:51:45  2016-02-08 12:51:45   \n",
              "4              A-5         3  2016-02-08 07:53:43  2016-02-08 13:53:43   \n",
              "...            ...       ...                  ...                  ...   \n",
              "2845337  A-2845338         2  2019-08-23 18:03:25  2019-08-23 18:32:01   \n",
              "2845338  A-2845339         2  2019-08-23 19:11:30  2019-08-23 19:38:23   \n",
              "2845339  A-2845340         2  2019-08-23 19:00:21  2019-08-23 19:28:49   \n",
              "2845340  A-2845341         2  2019-08-23 19:00:21  2019-08-23 19:29:42   \n",
              "2845341  A-2845342         2  2019-08-23 18:52:06  2019-08-23 19:21:31   \n",
              "\n",
              "         Start_Lat   Start_Lng    End_Lat     End_Lng  Distance(mi)  \\\n",
              "0        40.108910  -83.092860  40.112060  -83.031870         3.230   \n",
              "1        39.865420  -84.062800  39.865010  -84.048730         0.747   \n",
              "2        39.102660  -84.524680  39.102090  -84.523960         0.055   \n",
              "3        41.062130  -81.537840  41.062170  -81.535470         0.123   \n",
              "4        39.172393  -84.492792  39.170476  -84.501798         0.500   \n",
              "...            ...         ...        ...         ...           ...   \n",
              "2845337  34.002480 -117.379360  33.998880 -117.370940         0.543   \n",
              "2845338  32.766960 -117.148060  32.765550 -117.153630         0.338   \n",
              "2845339  33.775450 -117.847790  33.777400 -117.857270         0.561   \n",
              "2845340  33.992460 -118.403020  33.983110 -118.395650         0.772   \n",
              "2845341  34.133930 -117.230920  34.137360 -117.239340         0.537   \n",
              "\n",
              "                                               Description  ...  Roundabout  \\\n",
              "0        Between Sawmill Rd/Exit 20 and OH-315/Olentang...  ...       False   \n",
              "1                       At OH-4/OH-235/Exit 41 - Accident.  ...       False   \n",
              "2                         At I-71/US-50/Exit 1 - Accident.  ...       False   \n",
              "3                          At Dart Ave/Exit 21 - Accident.  ...       False   \n",
              "4                       At Mitchell Ave/Exit 6 - Accident.  ...       False   \n",
              "...                                                    ...  ...         ...   \n",
              "2845337                           At Market St - Accident.  ...       False   \n",
              "2845338    At Camino Del Rio/Mission Center Rd - Accident.  ...       False   \n",
              "2845339  At Glassell St/Grand Ave - Accident. in the ri...  ...       False   \n",
              "2845340     At CA-90/Marina Fwy/Jefferson Blvd - Accident.  ...       False   \n",
              "2845341              At Highland Ave/Arden Ave - Accident.  ...       False   \n",
              "\n",
              "        Station   Stop Traffic_Calming Traffic_Signal Turning_Loop  \\\n",
              "0         False  False           False          False        False   \n",
              "1         False  False           False          False        False   \n",
              "2         False  False           False          False        False   \n",
              "3         False  False           False          False        False   \n",
              "4         False  False           False          False        False   \n",
              "...         ...    ...             ...            ...          ...   \n",
              "2845337   False  False           False          False        False   \n",
              "2845338   False  False           False          False        False   \n",
              "2845339   False  False           False          False        False   \n",
              "2845340   False  False           False          False        False   \n",
              "2845341   False  False           False          False        False   \n",
              "\n",
              "        Sunrise_Sunset Civil_Twilight Nautical_Twilight Astronomical_Twilight  \n",
              "0                Night          Night             Night                 Night  \n",
              "1                Night          Night             Night                 Night  \n",
              "2                Night          Night             Night                   Day  \n",
              "3                Night          Night               Day                   Day  \n",
              "4                  Day            Day               Day                   Day  \n",
              "...                ...            ...               ...                   ...  \n",
              "2845337            Day            Day               Day                   Day  \n",
              "2845338            Day            Day               Day                   Day  \n",
              "2845339            Day            Day               Day                   Day  \n",
              "2845340            Day            Day               Day                   Day  \n",
              "2845341            Day            Day               Day                   Day  \n",
              "\n",
              "[2845342 rows x 47 columns]"
            ],
            "text/html": [
              "\n",
              "  <div id=\"df-ab450315-f4ce-47b6-aa1f-e5b529eb2133\">\n",
              "    <div class=\"colab-df-container\">\n",
              "      <div>\n",
              "<style scoped>\n",
              "    .dataframe tbody tr th:only-of-type {\n",
              "        vertical-align: middle;\n",
              "    }\n",
              "\n",
              "    .dataframe tbody tr th {\n",
              "        vertical-align: top;\n",
              "    }\n",
              "\n",
              "    .dataframe thead th {\n",
              "        text-align: right;\n",
              "    }\n",
              "</style>\n",
              "<table border=\"1\" class=\"dataframe\">\n",
              "  <thead>\n",
              "    <tr style=\"text-align: right;\">\n",
              "      <th></th>\n",
              "      <th>ID</th>\n",
              "      <th>Severity</th>\n",
              "      <th>Start_Time</th>\n",
              "      <th>End_Time</th>\n",
              "      <th>Start_Lat</th>\n",
              "      <th>Start_Lng</th>\n",
              "      <th>End_Lat</th>\n",
              "      <th>End_Lng</th>\n",
              "      <th>Distance(mi)</th>\n",
              "      <th>Description</th>\n",
              "      <th>...</th>\n",
              "      <th>Roundabout</th>\n",
              "      <th>Station</th>\n",
              "      <th>Stop</th>\n",
              "      <th>Traffic_Calming</th>\n",
              "      <th>Traffic_Signal</th>\n",
              "      <th>Turning_Loop</th>\n",
              "      <th>Sunrise_Sunset</th>\n",
              "      <th>Civil_Twilight</th>\n",
              "      <th>Nautical_Twilight</th>\n",
              "      <th>Astronomical_Twilight</th>\n",
              "    </tr>\n",
              "  </thead>\n",
              "  <tbody>\n",
              "    <tr>\n",
              "      <th>0</th>\n",
              "      <td>A-1</td>\n",
              "      <td>3</td>\n",
              "      <td>2016-02-08 00:37:08</td>\n",
              "      <td>2016-02-08 06:37:08</td>\n",
              "      <td>40.108910</td>\n",
              "      <td>-83.092860</td>\n",
              "      <td>40.112060</td>\n",
              "      <td>-83.031870</td>\n",
              "      <td>3.230</td>\n",
              "      <td>Between Sawmill Rd/Exit 20 and OH-315/Olentang...</td>\n",
              "      <td>...</td>\n",
              "      <td>False</td>\n",
              "      <td>False</td>\n",
              "      <td>False</td>\n",
              "      <td>False</td>\n",
              "      <td>False</td>\n",
              "      <td>False</td>\n",
              "      <td>Night</td>\n",
              "      <td>Night</td>\n",
              "      <td>Night</td>\n",
              "      <td>Night</td>\n",
              "    </tr>\n",
              "    <tr>\n",
              "      <th>1</th>\n",
              "      <td>A-2</td>\n",
              "      <td>2</td>\n",
              "      <td>2016-02-08 05:56:20</td>\n",
              "      <td>2016-02-08 11:56:20</td>\n",
              "      <td>39.865420</td>\n",
              "      <td>-84.062800</td>\n",
              "      <td>39.865010</td>\n",
              "      <td>-84.048730</td>\n",
              "      <td>0.747</td>\n",
              "      <td>At OH-4/OH-235/Exit 41 - Accident.</td>\n",
              "      <td>...</td>\n",
              "      <td>False</td>\n",
              "      <td>False</td>\n",
              "      <td>False</td>\n",
              "      <td>False</td>\n",
              "      <td>False</td>\n",
              "      <td>False</td>\n",
              "      <td>Night</td>\n",
              "      <td>Night</td>\n",
              "      <td>Night</td>\n",
              "      <td>Night</td>\n",
              "    </tr>\n",
              "    <tr>\n",
              "      <th>2</th>\n",
              "      <td>A-3</td>\n",
              "      <td>2</td>\n",
              "      <td>2016-02-08 06:15:39</td>\n",
              "      <td>2016-02-08 12:15:39</td>\n",
              "      <td>39.102660</td>\n",
              "      <td>-84.524680</td>\n",
              "      <td>39.102090</td>\n",
              "      <td>-84.523960</td>\n",
              "      <td>0.055</td>\n",
              "      <td>At I-71/US-50/Exit 1 - Accident.</td>\n",
              "      <td>...</td>\n",
              "      <td>False</td>\n",
              "      <td>False</td>\n",
              "      <td>False</td>\n",
              "      <td>False</td>\n",
              "      <td>False</td>\n",
              "      <td>False</td>\n",
              "      <td>Night</td>\n",
              "      <td>Night</td>\n",
              "      <td>Night</td>\n",
              "      <td>Day</td>\n",
              "    </tr>\n",
              "    <tr>\n",
              "      <th>3</th>\n",
              "      <td>A-4</td>\n",
              "      <td>2</td>\n",
              "      <td>2016-02-08 06:51:45</td>\n",
              "      <td>2016-02-08 12:51:45</td>\n",
              "      <td>41.062130</td>\n",
              "      <td>-81.537840</td>\n",
              "      <td>41.062170</td>\n",
              "      <td>-81.535470</td>\n",
              "      <td>0.123</td>\n",
              "      <td>At Dart Ave/Exit 21 - Accident.</td>\n",
              "      <td>...</td>\n",
              "      <td>False</td>\n",
              "      <td>False</td>\n",
              "      <td>False</td>\n",
              "      <td>False</td>\n",
              "      <td>False</td>\n",
              "      <td>False</td>\n",
              "      <td>Night</td>\n",
              "      <td>Night</td>\n",
              "      <td>Day</td>\n",
              "      <td>Day</td>\n",
              "    </tr>\n",
              "    <tr>\n",
              "      <th>4</th>\n",
              "      <td>A-5</td>\n",
              "      <td>3</td>\n",
              "      <td>2016-02-08 07:53:43</td>\n",
              "      <td>2016-02-08 13:53:43</td>\n",
              "      <td>39.172393</td>\n",
              "      <td>-84.492792</td>\n",
              "      <td>39.170476</td>\n",
              "      <td>-84.501798</td>\n",
              "      <td>0.500</td>\n",
              "      <td>At Mitchell Ave/Exit 6 - Accident.</td>\n",
              "      <td>...</td>\n",
              "      <td>False</td>\n",
              "      <td>False</td>\n",
              "      <td>False</td>\n",
              "      <td>False</td>\n",
              "      <td>False</td>\n",
              "      <td>False</td>\n",
              "      <td>Day</td>\n",
              "      <td>Day</td>\n",
              "      <td>Day</td>\n",
              "      <td>Day</td>\n",
              "    </tr>\n",
              "    <tr>\n",
              "      <th>...</th>\n",
              "      <td>...</td>\n",
              "      <td>...</td>\n",
              "      <td>...</td>\n",
              "      <td>...</td>\n",
              "      <td>...</td>\n",
              "      <td>...</td>\n",
              "      <td>...</td>\n",
              "      <td>...</td>\n",
              "      <td>...</td>\n",
              "      <td>...</td>\n",
              "      <td>...</td>\n",
              "      <td>...</td>\n",
              "      <td>...</td>\n",
              "      <td>...</td>\n",
              "      <td>...</td>\n",
              "      <td>...</td>\n",
              "      <td>...</td>\n",
              "      <td>...</td>\n",
              "      <td>...</td>\n",
              "      <td>...</td>\n",
              "      <td>...</td>\n",
              "    </tr>\n",
              "    <tr>\n",
              "      <th>2845337</th>\n",
              "      <td>A-2845338</td>\n",
              "      <td>2</td>\n",
              "      <td>2019-08-23 18:03:25</td>\n",
              "      <td>2019-08-23 18:32:01</td>\n",
              "      <td>34.002480</td>\n",
              "      <td>-117.379360</td>\n",
              "      <td>33.998880</td>\n",
              "      <td>-117.370940</td>\n",
              "      <td>0.543</td>\n",
              "      <td>At Market St - Accident.</td>\n",
              "      <td>...</td>\n",
              "      <td>False</td>\n",
              "      <td>False</td>\n",
              "      <td>False</td>\n",
              "      <td>False</td>\n",
              "      <td>False</td>\n",
              "      <td>False</td>\n",
              "      <td>Day</td>\n",
              "      <td>Day</td>\n",
              "      <td>Day</td>\n",
              "      <td>Day</td>\n",
              "    </tr>\n",
              "    <tr>\n",
              "      <th>2845338</th>\n",
              "      <td>A-2845339</td>\n",
              "      <td>2</td>\n",
              "      <td>2019-08-23 19:11:30</td>\n",
              "      <td>2019-08-23 19:38:23</td>\n",
              "      <td>32.766960</td>\n",
              "      <td>-117.148060</td>\n",
              "      <td>32.765550</td>\n",
              "      <td>-117.153630</td>\n",
              "      <td>0.338</td>\n",
              "      <td>At Camino Del Rio/Mission Center Rd - Accident.</td>\n",
              "      <td>...</td>\n",
              "      <td>False</td>\n",
              "      <td>False</td>\n",
              "      <td>False</td>\n",
              "      <td>False</td>\n",
              "      <td>False</td>\n",
              "      <td>False</td>\n",
              "      <td>Day</td>\n",
              "      <td>Day</td>\n",
              "      <td>Day</td>\n",
              "      <td>Day</td>\n",
              "    </tr>\n",
              "    <tr>\n",
              "      <th>2845339</th>\n",
              "      <td>A-2845340</td>\n",
              "      <td>2</td>\n",
              "      <td>2019-08-23 19:00:21</td>\n",
              "      <td>2019-08-23 19:28:49</td>\n",
              "      <td>33.775450</td>\n",
              "      <td>-117.847790</td>\n",
              "      <td>33.777400</td>\n",
              "      <td>-117.857270</td>\n",
              "      <td>0.561</td>\n",
              "      <td>At Glassell St/Grand Ave - Accident. in the ri...</td>\n",
              "      <td>...</td>\n",
              "      <td>False</td>\n",
              "      <td>False</td>\n",
              "      <td>False</td>\n",
              "      <td>False</td>\n",
              "      <td>False</td>\n",
              "      <td>False</td>\n",
              "      <td>Day</td>\n",
              "      <td>Day</td>\n",
              "      <td>Day</td>\n",
              "      <td>Day</td>\n",
              "    </tr>\n",
              "    <tr>\n",
              "      <th>2845340</th>\n",
              "      <td>A-2845341</td>\n",
              "      <td>2</td>\n",
              "      <td>2019-08-23 19:00:21</td>\n",
              "      <td>2019-08-23 19:29:42</td>\n",
              "      <td>33.992460</td>\n",
              "      <td>-118.403020</td>\n",
              "      <td>33.983110</td>\n",
              "      <td>-118.395650</td>\n",
              "      <td>0.772</td>\n",
              "      <td>At CA-90/Marina Fwy/Jefferson Blvd - Accident.</td>\n",
              "      <td>...</td>\n",
              "      <td>False</td>\n",
              "      <td>False</td>\n",
              "      <td>False</td>\n",
              "      <td>False</td>\n",
              "      <td>False</td>\n",
              "      <td>False</td>\n",
              "      <td>Day</td>\n",
              "      <td>Day</td>\n",
              "      <td>Day</td>\n",
              "      <td>Day</td>\n",
              "    </tr>\n",
              "    <tr>\n",
              "      <th>2845341</th>\n",
              "      <td>A-2845342</td>\n",
              "      <td>2</td>\n",
              "      <td>2019-08-23 18:52:06</td>\n",
              "      <td>2019-08-23 19:21:31</td>\n",
              "      <td>34.133930</td>\n",
              "      <td>-117.230920</td>\n",
              "      <td>34.137360</td>\n",
              "      <td>-117.239340</td>\n",
              "      <td>0.537</td>\n",
              "      <td>At Highland Ave/Arden Ave - Accident.</td>\n",
              "      <td>...</td>\n",
              "      <td>False</td>\n",
              "      <td>False</td>\n",
              "      <td>False</td>\n",
              "      <td>False</td>\n",
              "      <td>False</td>\n",
              "      <td>False</td>\n",
              "      <td>Day</td>\n",
              "      <td>Day</td>\n",
              "      <td>Day</td>\n",
              "      <td>Day</td>\n",
              "    </tr>\n",
              "  </tbody>\n",
              "</table>\n",
              "<p>2845342 rows × 47 columns</p>\n",
              "</div>\n",
              "      <button class=\"colab-df-convert\" onclick=\"convertToInteractive('df-ab450315-f4ce-47b6-aa1f-e5b529eb2133')\"\n",
              "              title=\"Convert this dataframe to an interactive table.\"\n",
              "              style=\"display:none;\">\n",
              "        \n",
              "  <svg xmlns=\"http://www.w3.org/2000/svg\" height=\"24px\"viewBox=\"0 0 24 24\"\n",
              "       width=\"24px\">\n",
              "    <path d=\"M0 0h24v24H0V0z\" fill=\"none\"/>\n",
              "    <path d=\"M18.56 5.44l.94 2.06.94-2.06 2.06-.94-2.06-.94-.94-2.06-.94 2.06-2.06.94zm-11 1L8.5 8.5l.94-2.06 2.06-.94-2.06-.94L8.5 2.5l-.94 2.06-2.06.94zm10 10l.94 2.06.94-2.06 2.06-.94-2.06-.94-.94-2.06-.94 2.06-2.06.94z\"/><path d=\"M17.41 7.96l-1.37-1.37c-.4-.4-.92-.59-1.43-.59-.52 0-1.04.2-1.43.59L10.3 9.45l-7.72 7.72c-.78.78-.78 2.05 0 2.83L4 21.41c.39.39.9.59 1.41.59.51 0 1.02-.2 1.41-.59l7.78-7.78 2.81-2.81c.8-.78.8-2.07 0-2.86zM5.41 20L4 18.59l7.72-7.72 1.47 1.35L5.41 20z\"/>\n",
              "  </svg>\n",
              "      </button>\n",
              "      \n",
              "  <style>\n",
              "    .colab-df-container {\n",
              "      display:flex;\n",
              "      flex-wrap:wrap;\n",
              "      gap: 12px;\n",
              "    }\n",
              "\n",
              "    .colab-df-convert {\n",
              "      background-color: #E8F0FE;\n",
              "      border: none;\n",
              "      border-radius: 50%;\n",
              "      cursor: pointer;\n",
              "      display: none;\n",
              "      fill: #1967D2;\n",
              "      height: 32px;\n",
              "      padding: 0 0 0 0;\n",
              "      width: 32px;\n",
              "    }\n",
              "\n",
              "    .colab-df-convert:hover {\n",
              "      background-color: #E2EBFA;\n",
              "      box-shadow: 0px 1px 2px rgba(60, 64, 67, 0.3), 0px 1px 3px 1px rgba(60, 64, 67, 0.15);\n",
              "      fill: #174EA6;\n",
              "    }\n",
              "\n",
              "    [theme=dark] .colab-df-convert {\n",
              "      background-color: #3B4455;\n",
              "      fill: #D2E3FC;\n",
              "    }\n",
              "\n",
              "    [theme=dark] .colab-df-convert:hover {\n",
              "      background-color: #434B5C;\n",
              "      box-shadow: 0px 1px 3px 1px rgba(0, 0, 0, 0.15);\n",
              "      filter: drop-shadow(0px 1px 2px rgba(0, 0, 0, 0.3));\n",
              "      fill: #FFFFFF;\n",
              "    }\n",
              "  </style>\n",
              "\n",
              "      <script>\n",
              "        const buttonEl =\n",
              "          document.querySelector('#df-ab450315-f4ce-47b6-aa1f-e5b529eb2133 button.colab-df-convert');\n",
              "        buttonEl.style.display =\n",
              "          google.colab.kernel.accessAllowed ? 'block' : 'none';\n",
              "\n",
              "        async function convertToInteractive(key) {\n",
              "          const element = document.querySelector('#df-ab450315-f4ce-47b6-aa1f-e5b529eb2133');\n",
              "          const dataTable =\n",
              "            await google.colab.kernel.invokeFunction('convertToInteractive',\n",
              "                                                     [key], {});\n",
              "          if (!dataTable) return;\n",
              "\n",
              "          const docLinkHtml = 'Like what you see? Visit the ' +\n",
              "            '<a target=\"_blank\" href=https://colab.research.google.com/notebooks/data_table.ipynb>data table notebook</a>'\n",
              "            + ' to learn more about interactive tables.';\n",
              "          element.innerHTML = '';\n",
              "          dataTable['output_type'] = 'display_data';\n",
              "          await google.colab.output.renderOutput(dataTable, element);\n",
              "          const docLink = document.createElement('div');\n",
              "          docLink.innerHTML = docLinkHtml;\n",
              "          element.appendChild(docLink);\n",
              "        }\n",
              "      </script>\n",
              "    </div>\n",
              "  </div>\n",
              "  "
            ]
          },
          "metadata": {},
          "execution_count": 5
        }
      ]
    },
    {
      "cell_type": "code",
      "source": [
        "df.columns"
      ],
      "metadata": {
        "colab": {
          "base_uri": "https://localhost:8080/"
        },
        "id": "1CiAOGfP1lFk",
        "outputId": "d3db0aaa-e774-4304-ca8f-7b631132da7c"
      },
      "execution_count": null,
      "outputs": [
        {
          "output_type": "execute_result",
          "data": {
            "text/plain": [
              "Index(['ID', 'Severity', 'Start_Time', 'End_Time', 'Start_Lat', 'Start_Lng',\n",
              "       'End_Lat', 'End_Lng', 'Distance(mi)', 'Description', 'Number', 'Street',\n",
              "       'Side', 'City', 'County', 'State', 'Zipcode', 'Country', 'Timezone',\n",
              "       'Airport_Code', 'Weather_Timestamp', 'Temperature(F)', 'Wind_Chill(F)',\n",
              "       'Humidity(%)', 'Pressure(in)', 'Visibility(mi)', 'Wind_Direction',\n",
              "       'Wind_Speed(mph)', 'Precipitation(in)', 'Weather_Condition', 'Amenity',\n",
              "       'Bump', 'Crossing', 'Give_Way', 'Junction', 'No_Exit', 'Railway',\n",
              "       'Roundabout', 'Station', 'Stop', 'Traffic_Calming', 'Traffic_Signal',\n",
              "       'Turning_Loop', 'Sunrise_Sunset', 'Civil_Twilight', 'Nautical_Twilight',\n",
              "       'Astronomical_Twilight'],\n",
              "      dtype='object')"
            ]
          },
          "metadata": {},
          "execution_count": 6
        }
      ]
    },
    {
      "cell_type": "code",
      "source": [
        "len(df.columns)"
      ],
      "metadata": {
        "colab": {
          "base_uri": "https://localhost:8080/"
        },
        "id": "OMwlT-521lCV",
        "outputId": "01ce1d71-7071-4949-979c-ab07df538df9"
      },
      "execution_count": null,
      "outputs": [
        {
          "output_type": "execute_result",
          "data": {
            "text/plain": [
              "47"
            ]
          },
          "metadata": {},
          "execution_count": 7
        }
      ]
    },
    {
      "cell_type": "code",
      "source": [
        "len(df)"
      ],
      "metadata": {
        "colab": {
          "base_uri": "https://localhost:8080/"
        },
        "id": "C_CojYoy6tbt",
        "outputId": "b2a3310b-8fec-410d-f30c-f32fe74c7fb1"
      },
      "execution_count": null,
      "outputs": [
        {
          "output_type": "execute_result",
          "data": {
            "text/plain": [
              "2845342"
            ]
          },
          "metadata": {},
          "execution_count": 8
        }
      ]
    },
    {
      "cell_type": "code",
      "source": [
        "df.info()"
      ],
      "metadata": {
        "colab": {
          "base_uri": "https://localhost:8080/"
        },
        "id": "eObXOsCG6LRh",
        "outputId": "787cdf47-34ef-43e5-ab55-65f15d311d17"
      },
      "execution_count": null,
      "outputs": [
        {
          "output_type": "stream",
          "name": "stdout",
          "text": [
            "<class 'pandas.core.frame.DataFrame'>\n",
            "RangeIndex: 2845342 entries, 0 to 2845341\n",
            "Data columns (total 47 columns):\n",
            " #   Column                 Dtype  \n",
            "---  ------                 -----  \n",
            " 0   ID                     object \n",
            " 1   Severity               int64  \n",
            " 2   Start_Time             object \n",
            " 3   End_Time               object \n",
            " 4   Start_Lat              float64\n",
            " 5   Start_Lng              float64\n",
            " 6   End_Lat                float64\n",
            " 7   End_Lng                float64\n",
            " 8   Distance(mi)           float64\n",
            " 9   Description            object \n",
            " 10  Number                 float64\n",
            " 11  Street                 object \n",
            " 12  Side                   object \n",
            " 13  City                   object \n",
            " 14  County                 object \n",
            " 15  State                  object \n",
            " 16  Zipcode                object \n",
            " 17  Country                object \n",
            " 18  Timezone               object \n",
            " 19  Airport_Code           object \n",
            " 20  Weather_Timestamp      object \n",
            " 21  Temperature(F)         float64\n",
            " 22  Wind_Chill(F)          float64\n",
            " 23  Humidity(%)            float64\n",
            " 24  Pressure(in)           float64\n",
            " 25  Visibility(mi)         float64\n",
            " 26  Wind_Direction         object \n",
            " 27  Wind_Speed(mph)        float64\n",
            " 28  Precipitation(in)      float64\n",
            " 29  Weather_Condition      object \n",
            " 30  Amenity                bool   \n",
            " 31  Bump                   bool   \n",
            " 32  Crossing               bool   \n",
            " 33  Give_Way               bool   \n",
            " 34  Junction               bool   \n",
            " 35  No_Exit                bool   \n",
            " 36  Railway                bool   \n",
            " 37  Roundabout             bool   \n",
            " 38  Station                bool   \n",
            " 39  Stop                   bool   \n",
            " 40  Traffic_Calming        bool   \n",
            " 41  Traffic_Signal         bool   \n",
            " 42  Turning_Loop           bool   \n",
            " 43  Sunrise_Sunset         object \n",
            " 44  Civil_Twilight         object \n",
            " 45  Nautical_Twilight      object \n",
            " 46  Astronomical_Twilight  object \n",
            "dtypes: bool(13), float64(13), int64(1), object(20)\n",
            "memory usage: 773.4+ MB\n"
          ]
        }
      ]
    },
    {
      "cell_type": "code",
      "source": [
        "df.describe()"
      ],
      "metadata": {
        "colab": {
          "base_uri": "https://localhost:8080/",
          "height": 364
        },
        "id": "6atBhcx46LOi",
        "outputId": "ff52c250-5040-4440-8a1c-95db4f49f079"
      },
      "execution_count": null,
      "outputs": [
        {
          "output_type": "execute_result",
          "data": {
            "text/plain": [
              "           Severity     Start_Lat     Start_Lng       End_Lat       End_Lng  \\\n",
              "count  2.845342e+06  2.845342e+06  2.845342e+06  2.845342e+06  2.845342e+06   \n",
              "mean   2.137572e+00  3.624520e+01 -9.711463e+01  3.624532e+01 -9.711439e+01   \n",
              "std    4.787216e-01  5.363797e+00  1.831782e+01  5.363873e+00  1.831763e+01   \n",
              "min    1.000000e+00  2.456603e+01 -1.245481e+02  2.456601e+01 -1.245457e+02   \n",
              "25%    2.000000e+00  3.344517e+01 -1.180331e+02  3.344628e+01 -1.180333e+02   \n",
              "50%    2.000000e+00  3.609861e+01 -9.241808e+01  3.609799e+01 -9.241772e+01   \n",
              "75%    2.000000e+00  4.016024e+01 -8.037243e+01  4.016105e+01 -8.037338e+01   \n",
              "max    4.000000e+00  4.900058e+01 -6.711317e+01  4.907500e+01 -6.710924e+01   \n",
              "\n",
              "       Distance(mi)        Number  Temperature(F)  Wind_Chill(F)  \\\n",
              "count  2.845342e+06  1.101431e+06    2.776068e+06   2.375699e+06   \n",
              "mean   7.026779e-01  8.089408e+03    6.179356e+01   5.965823e+01   \n",
              "std    1.560361e+00  1.836009e+04    1.862263e+01   2.116097e+01   \n",
              "min    0.000000e+00  0.000000e+00   -8.900000e+01  -8.900000e+01   \n",
              "25%    5.200000e-02  1.270000e+03    5.000000e+01   4.600000e+01   \n",
              "50%    2.440000e-01  4.007000e+03    6.400000e+01   6.300000e+01   \n",
              "75%    7.640000e-01  9.567000e+03    7.600000e+01   7.600000e+01   \n",
              "max    1.551860e+02  9.999997e+06    1.960000e+02   1.960000e+02   \n",
              "\n",
              "        Humidity(%)  Pressure(in)  Visibility(mi)  Wind_Speed(mph)  \\\n",
              "count  2.772250e+06  2.786142e+06    2.774796e+06     2.687398e+06   \n",
              "mean   6.436545e+01  2.947234e+01    9.099391e+00     7.395044e+00   \n",
              "std    2.287457e+01  1.045286e+00    2.717546e+00     5.527454e+00   \n",
              "min    1.000000e+00  0.000000e+00    0.000000e+00     0.000000e+00   \n",
              "25%    4.800000e+01  2.931000e+01    1.000000e+01     3.500000e+00   \n",
              "50%    6.700000e+01  2.982000e+01    1.000000e+01     7.000000e+00   \n",
              "75%    8.300000e+01  3.001000e+01    1.000000e+01     1.000000e+01   \n",
              "max    1.000000e+02  5.890000e+01    1.400000e+02     1.087000e+03   \n",
              "\n",
              "       Precipitation(in)  \n",
              "count       2.295884e+06  \n",
              "mean        7.016940e-03  \n",
              "std         9.348831e-02  \n",
              "min         0.000000e+00  \n",
              "25%         0.000000e+00  \n",
              "50%         0.000000e+00  \n",
              "75%         0.000000e+00  \n",
              "max         2.400000e+01  "
            ],
            "text/html": [
              "\n",
              "  <div id=\"df-53eccbab-e52a-430a-bea3-0b831b566e89\">\n",
              "    <div class=\"colab-df-container\">\n",
              "      <div>\n",
              "<style scoped>\n",
              "    .dataframe tbody tr th:only-of-type {\n",
              "        vertical-align: middle;\n",
              "    }\n",
              "\n",
              "    .dataframe tbody tr th {\n",
              "        vertical-align: top;\n",
              "    }\n",
              "\n",
              "    .dataframe thead th {\n",
              "        text-align: right;\n",
              "    }\n",
              "</style>\n",
              "<table border=\"1\" class=\"dataframe\">\n",
              "  <thead>\n",
              "    <tr style=\"text-align: right;\">\n",
              "      <th></th>\n",
              "      <th>Severity</th>\n",
              "      <th>Start_Lat</th>\n",
              "      <th>Start_Lng</th>\n",
              "      <th>End_Lat</th>\n",
              "      <th>End_Lng</th>\n",
              "      <th>Distance(mi)</th>\n",
              "      <th>Number</th>\n",
              "      <th>Temperature(F)</th>\n",
              "      <th>Wind_Chill(F)</th>\n",
              "      <th>Humidity(%)</th>\n",
              "      <th>Pressure(in)</th>\n",
              "      <th>Visibility(mi)</th>\n",
              "      <th>Wind_Speed(mph)</th>\n",
              "      <th>Precipitation(in)</th>\n",
              "    </tr>\n",
              "  </thead>\n",
              "  <tbody>\n",
              "    <tr>\n",
              "      <th>count</th>\n",
              "      <td>2.845342e+06</td>\n",
              "      <td>2.845342e+06</td>\n",
              "      <td>2.845342e+06</td>\n",
              "      <td>2.845342e+06</td>\n",
              "      <td>2.845342e+06</td>\n",
              "      <td>2.845342e+06</td>\n",
              "      <td>1.101431e+06</td>\n",
              "      <td>2.776068e+06</td>\n",
              "      <td>2.375699e+06</td>\n",
              "      <td>2.772250e+06</td>\n",
              "      <td>2.786142e+06</td>\n",
              "      <td>2.774796e+06</td>\n",
              "      <td>2.687398e+06</td>\n",
              "      <td>2.295884e+06</td>\n",
              "    </tr>\n",
              "    <tr>\n",
              "      <th>mean</th>\n",
              "      <td>2.137572e+00</td>\n",
              "      <td>3.624520e+01</td>\n",
              "      <td>-9.711463e+01</td>\n",
              "      <td>3.624532e+01</td>\n",
              "      <td>-9.711439e+01</td>\n",
              "      <td>7.026779e-01</td>\n",
              "      <td>8.089408e+03</td>\n",
              "      <td>6.179356e+01</td>\n",
              "      <td>5.965823e+01</td>\n",
              "      <td>6.436545e+01</td>\n",
              "      <td>2.947234e+01</td>\n",
              "      <td>9.099391e+00</td>\n",
              "      <td>7.395044e+00</td>\n",
              "      <td>7.016940e-03</td>\n",
              "    </tr>\n",
              "    <tr>\n",
              "      <th>std</th>\n",
              "      <td>4.787216e-01</td>\n",
              "      <td>5.363797e+00</td>\n",
              "      <td>1.831782e+01</td>\n",
              "      <td>5.363873e+00</td>\n",
              "      <td>1.831763e+01</td>\n",
              "      <td>1.560361e+00</td>\n",
              "      <td>1.836009e+04</td>\n",
              "      <td>1.862263e+01</td>\n",
              "      <td>2.116097e+01</td>\n",
              "      <td>2.287457e+01</td>\n",
              "      <td>1.045286e+00</td>\n",
              "      <td>2.717546e+00</td>\n",
              "      <td>5.527454e+00</td>\n",
              "      <td>9.348831e-02</td>\n",
              "    </tr>\n",
              "    <tr>\n",
              "      <th>min</th>\n",
              "      <td>1.000000e+00</td>\n",
              "      <td>2.456603e+01</td>\n",
              "      <td>-1.245481e+02</td>\n",
              "      <td>2.456601e+01</td>\n",
              "      <td>-1.245457e+02</td>\n",
              "      <td>0.000000e+00</td>\n",
              "      <td>0.000000e+00</td>\n",
              "      <td>-8.900000e+01</td>\n",
              "      <td>-8.900000e+01</td>\n",
              "      <td>1.000000e+00</td>\n",
              "      <td>0.000000e+00</td>\n",
              "      <td>0.000000e+00</td>\n",
              "      <td>0.000000e+00</td>\n",
              "      <td>0.000000e+00</td>\n",
              "    </tr>\n",
              "    <tr>\n",
              "      <th>25%</th>\n",
              "      <td>2.000000e+00</td>\n",
              "      <td>3.344517e+01</td>\n",
              "      <td>-1.180331e+02</td>\n",
              "      <td>3.344628e+01</td>\n",
              "      <td>-1.180333e+02</td>\n",
              "      <td>5.200000e-02</td>\n",
              "      <td>1.270000e+03</td>\n",
              "      <td>5.000000e+01</td>\n",
              "      <td>4.600000e+01</td>\n",
              "      <td>4.800000e+01</td>\n",
              "      <td>2.931000e+01</td>\n",
              "      <td>1.000000e+01</td>\n",
              "      <td>3.500000e+00</td>\n",
              "      <td>0.000000e+00</td>\n",
              "    </tr>\n",
              "    <tr>\n",
              "      <th>50%</th>\n",
              "      <td>2.000000e+00</td>\n",
              "      <td>3.609861e+01</td>\n",
              "      <td>-9.241808e+01</td>\n",
              "      <td>3.609799e+01</td>\n",
              "      <td>-9.241772e+01</td>\n",
              "      <td>2.440000e-01</td>\n",
              "      <td>4.007000e+03</td>\n",
              "      <td>6.400000e+01</td>\n",
              "      <td>6.300000e+01</td>\n",
              "      <td>6.700000e+01</td>\n",
              "      <td>2.982000e+01</td>\n",
              "      <td>1.000000e+01</td>\n",
              "      <td>7.000000e+00</td>\n",
              "      <td>0.000000e+00</td>\n",
              "    </tr>\n",
              "    <tr>\n",
              "      <th>75%</th>\n",
              "      <td>2.000000e+00</td>\n",
              "      <td>4.016024e+01</td>\n",
              "      <td>-8.037243e+01</td>\n",
              "      <td>4.016105e+01</td>\n",
              "      <td>-8.037338e+01</td>\n",
              "      <td>7.640000e-01</td>\n",
              "      <td>9.567000e+03</td>\n",
              "      <td>7.600000e+01</td>\n",
              "      <td>7.600000e+01</td>\n",
              "      <td>8.300000e+01</td>\n",
              "      <td>3.001000e+01</td>\n",
              "      <td>1.000000e+01</td>\n",
              "      <td>1.000000e+01</td>\n",
              "      <td>0.000000e+00</td>\n",
              "    </tr>\n",
              "    <tr>\n",
              "      <th>max</th>\n",
              "      <td>4.000000e+00</td>\n",
              "      <td>4.900058e+01</td>\n",
              "      <td>-6.711317e+01</td>\n",
              "      <td>4.907500e+01</td>\n",
              "      <td>-6.710924e+01</td>\n",
              "      <td>1.551860e+02</td>\n",
              "      <td>9.999997e+06</td>\n",
              "      <td>1.960000e+02</td>\n",
              "      <td>1.960000e+02</td>\n",
              "      <td>1.000000e+02</td>\n",
              "      <td>5.890000e+01</td>\n",
              "      <td>1.400000e+02</td>\n",
              "      <td>1.087000e+03</td>\n",
              "      <td>2.400000e+01</td>\n",
              "    </tr>\n",
              "  </tbody>\n",
              "</table>\n",
              "</div>\n",
              "      <button class=\"colab-df-convert\" onclick=\"convertToInteractive('df-53eccbab-e52a-430a-bea3-0b831b566e89')\"\n",
              "              title=\"Convert this dataframe to an interactive table.\"\n",
              "              style=\"display:none;\">\n",
              "        \n",
              "  <svg xmlns=\"http://www.w3.org/2000/svg\" height=\"24px\"viewBox=\"0 0 24 24\"\n",
              "       width=\"24px\">\n",
              "    <path d=\"M0 0h24v24H0V0z\" fill=\"none\"/>\n",
              "    <path d=\"M18.56 5.44l.94 2.06.94-2.06 2.06-.94-2.06-.94-.94-2.06-.94 2.06-2.06.94zm-11 1L8.5 8.5l.94-2.06 2.06-.94-2.06-.94L8.5 2.5l-.94 2.06-2.06.94zm10 10l.94 2.06.94-2.06 2.06-.94-2.06-.94-.94-2.06-.94 2.06-2.06.94z\"/><path d=\"M17.41 7.96l-1.37-1.37c-.4-.4-.92-.59-1.43-.59-.52 0-1.04.2-1.43.59L10.3 9.45l-7.72 7.72c-.78.78-.78 2.05 0 2.83L4 21.41c.39.39.9.59 1.41.59.51 0 1.02-.2 1.41-.59l7.78-7.78 2.81-2.81c.8-.78.8-2.07 0-2.86zM5.41 20L4 18.59l7.72-7.72 1.47 1.35L5.41 20z\"/>\n",
              "  </svg>\n",
              "      </button>\n",
              "      \n",
              "  <style>\n",
              "    .colab-df-container {\n",
              "      display:flex;\n",
              "      flex-wrap:wrap;\n",
              "      gap: 12px;\n",
              "    }\n",
              "\n",
              "    .colab-df-convert {\n",
              "      background-color: #E8F0FE;\n",
              "      border: none;\n",
              "      border-radius: 50%;\n",
              "      cursor: pointer;\n",
              "      display: none;\n",
              "      fill: #1967D2;\n",
              "      height: 32px;\n",
              "      padding: 0 0 0 0;\n",
              "      width: 32px;\n",
              "    }\n",
              "\n",
              "    .colab-df-convert:hover {\n",
              "      background-color: #E2EBFA;\n",
              "      box-shadow: 0px 1px 2px rgba(60, 64, 67, 0.3), 0px 1px 3px 1px rgba(60, 64, 67, 0.15);\n",
              "      fill: #174EA6;\n",
              "    }\n",
              "\n",
              "    [theme=dark] .colab-df-convert {\n",
              "      background-color: #3B4455;\n",
              "      fill: #D2E3FC;\n",
              "    }\n",
              "\n",
              "    [theme=dark] .colab-df-convert:hover {\n",
              "      background-color: #434B5C;\n",
              "      box-shadow: 0px 1px 3px 1px rgba(0, 0, 0, 0.15);\n",
              "      filter: drop-shadow(0px 1px 2px rgba(0, 0, 0, 0.3));\n",
              "      fill: #FFFFFF;\n",
              "    }\n",
              "  </style>\n",
              "\n",
              "      <script>\n",
              "        const buttonEl =\n",
              "          document.querySelector('#df-53eccbab-e52a-430a-bea3-0b831b566e89 button.colab-df-convert');\n",
              "        buttonEl.style.display =\n",
              "          google.colab.kernel.accessAllowed ? 'block' : 'none';\n",
              "\n",
              "        async function convertToInteractive(key) {\n",
              "          const element = document.querySelector('#df-53eccbab-e52a-430a-bea3-0b831b566e89');\n",
              "          const dataTable =\n",
              "            await google.colab.kernel.invokeFunction('convertToInteractive',\n",
              "                                                     [key], {});\n",
              "          if (!dataTable) return;\n",
              "\n",
              "          const docLinkHtml = 'Like what you see? Visit the ' +\n",
              "            '<a target=\"_blank\" href=https://colab.research.google.com/notebooks/data_table.ipynb>data table notebook</a>'\n",
              "            + ' to learn more about interactive tables.';\n",
              "          element.innerHTML = '';\n",
              "          dataTable['output_type'] = 'display_data';\n",
              "          await google.colab.output.renderOutput(dataTable, element);\n",
              "          const docLink = document.createElement('div');\n",
              "          docLink.innerHTML = docLinkHtml;\n",
              "          element.appendChild(docLink);\n",
              "        }\n",
              "      </script>\n",
              "    </div>\n",
              "  </div>\n",
              "  "
            ]
          },
          "metadata": {},
          "execution_count": 10
        }
      ]
    },
    {
      "cell_type": "code",
      "source": [
        "import numpy as np"
      ],
      "metadata": {
        "id": "ofd2pumd8pgt"
      },
      "execution_count": null,
      "outputs": []
    },
    {
      "cell_type": "code",
      "source": [
        "numeric_df = df.select_dtypes(include=np.number)"
      ],
      "metadata": {
        "id": "Uab9aVEK6LLb"
      },
      "execution_count": null,
      "outputs": []
    },
    {
      "cell_type": "code",
      "source": [
        "len(numeric_df.columns)"
      ],
      "metadata": {
        "colab": {
          "base_uri": "https://localhost:8080/"
        },
        "id": "U244JEDv6LH8",
        "outputId": "fbff8a9c-5ae0-4d14-a082-2a0f8d0f9622"
      },
      "execution_count": null,
      "outputs": [
        {
          "output_type": "execute_result",
          "data": {
            "text/plain": [
              "14"
            ]
          },
          "metadata": {},
          "execution_count": 13
        }
      ]
    },
    {
      "cell_type": "code",
      "source": [
        "missing_percentage = df.isna().sum().sort_values(ascending=False) / len(df)\n",
        "missing_percentage"
      ],
      "metadata": {
        "colab": {
          "base_uri": "https://localhost:8080/"
        },
        "id": "cKqTerd_6LEi",
        "outputId": "58453491-35e7-45ff-d6db-b9e3e9a036a2"
      },
      "execution_count": null,
      "outputs": [
        {
          "output_type": "execute_result",
          "data": {
            "text/plain": [
              "Number                   6.129003e-01\n",
              "Precipitation(in)        1.931079e-01\n",
              "Wind_Chill(F)            1.650568e-01\n",
              "Wind_Speed(mph)          5.550967e-02\n",
              "Wind_Direction           2.592834e-02\n",
              "Humidity(%)              2.568830e-02\n",
              "Weather_Condition        2.482514e-02\n",
              "Visibility(mi)           2.479350e-02\n",
              "Temperature(F)           2.434646e-02\n",
              "Pressure(in)             2.080593e-02\n",
              "Weather_Timestamp        1.783125e-02\n",
              "Airport_Code             3.356011e-03\n",
              "Timezone                 1.285961e-03\n",
              "Nautical_Twilight        1.007612e-03\n",
              "Civil_Twilight           1.007612e-03\n",
              "Sunrise_Sunset           1.007612e-03\n",
              "Astronomical_Twilight    1.007612e-03\n",
              "Zipcode                  4.635647e-04\n",
              "City                     4.814887e-05\n",
              "Street                   7.029032e-07\n",
              "Country                  0.000000e+00\n",
              "Junction                 0.000000e+00\n",
              "Start_Time               0.000000e+00\n",
              "End_Time                 0.000000e+00\n",
              "Start_Lat                0.000000e+00\n",
              "Turning_Loop             0.000000e+00\n",
              "Traffic_Signal           0.000000e+00\n",
              "Traffic_Calming          0.000000e+00\n",
              "Stop                     0.000000e+00\n",
              "Station                  0.000000e+00\n",
              "Roundabout               0.000000e+00\n",
              "Railway                  0.000000e+00\n",
              "No_Exit                  0.000000e+00\n",
              "Crossing                 0.000000e+00\n",
              "Give_Way                 0.000000e+00\n",
              "Bump                     0.000000e+00\n",
              "Amenity                  0.000000e+00\n",
              "Start_Lng                0.000000e+00\n",
              "End_Lat                  0.000000e+00\n",
              "End_Lng                  0.000000e+00\n",
              "Distance(mi)             0.000000e+00\n",
              "Description              0.000000e+00\n",
              "Severity                 0.000000e+00\n",
              "Side                     0.000000e+00\n",
              "County                   0.000000e+00\n",
              "State                    0.000000e+00\n",
              "ID                       0.000000e+00\n",
              "dtype: float64"
            ]
          },
          "metadata": {},
          "execution_count": 14
        }
      ]
    },
    {
      "cell_type": "code",
      "source": [
        "missing_percentage[missing_percentage != 0]"
      ],
      "metadata": {
        "colab": {
          "base_uri": "https://localhost:8080/"
        },
        "id": "7IP0OTR1OM5r",
        "outputId": "a0ac475a-56c4-45f3-a3eb-1c4ed095ac61"
      },
      "execution_count": null,
      "outputs": [
        {
          "output_type": "execute_result",
          "data": {
            "text/plain": [
              "Number                   6.129003e-01\n",
              "Precipitation(in)        1.931079e-01\n",
              "Wind_Chill(F)            1.650568e-01\n",
              "Wind_Speed(mph)          5.550967e-02\n",
              "Wind_Direction           2.592834e-02\n",
              "Humidity(%)              2.568830e-02\n",
              "Weather_Condition        2.482514e-02\n",
              "Visibility(mi)           2.479350e-02\n",
              "Temperature(F)           2.434646e-02\n",
              "Pressure(in)             2.080593e-02\n",
              "Weather_Timestamp        1.783125e-02\n",
              "Airport_Code             3.356011e-03\n",
              "Timezone                 1.285961e-03\n",
              "Nautical_Twilight        1.007612e-03\n",
              "Civil_Twilight           1.007612e-03\n",
              "Sunrise_Sunset           1.007612e-03\n",
              "Astronomical_Twilight    1.007612e-03\n",
              "Zipcode                  4.635647e-04\n",
              "City                     4.814887e-05\n",
              "Street                   7.029032e-07\n",
              "dtype: float64"
            ]
          },
          "metadata": {},
          "execution_count": 15
        }
      ]
    },
    {
      "cell_type": "code",
      "source": [
        "missing_percentage[missing_percentage != 0].plot(kind='barh')"
      ],
      "metadata": {
        "colab": {
          "base_uri": "https://localhost:8080/",
          "height": 282
        },
        "id": "rqRs4fy8Ocal",
        "outputId": "dd140716-d2f6-4392-b8a5-5c0ce16a0350"
      },
      "execution_count": null,
      "outputs": [
        {
          "output_type": "execute_result",
          "data": {
            "text/plain": [
              "<matplotlib.axes._subplots.AxesSubplot at 0x7fb2bfb00160>"
            ]
          },
          "metadata": {},
          "execution_count": 16
        },
        {
          "output_type": "display_data",
          "data": {
            "text/plain": [
              "<Figure size 432x288 with 1 Axes>"
            ],
            "image/png": "[encoded data removed]"
          },
          "metadata": {
            "needs_background": "light"
          }
        }
      ]
    },
    {
      "cell_type": "markdown",
      "source": [
        "## Exploratory Analysis and Visualization\n",
        "column we'll analyse\n",
        "1. City\n",
        "2. Start Time\n",
        "3. Start Lat & Start lng\n",
        "4. Temperature\n",
        "5. Weather Conditions"
      ],
      "metadata": {
        "id": "v761_hmp1-hn"
      }
    },
    {
      "cell_type": "markdown",
      "source": [
        "### City"
      ],
      "metadata": {
        "id": "vZ1iLsJAoc8M"
      }
    },
    {
      "cell_type": "code",
      "source": [
        "df.columns"
      ],
      "metadata": {
        "colab": {
          "base_uri": "https://localhost:8080/"
        },
        "id": "Cdle9ftb1k-k",
        "outputId": "a9a2dfb5-cb36-4fa3-aba0-fdb731c4b65b"
      },
      "execution_count": null,
      "outputs": [
        {
          "output_type": "execute_result",
          "data": {
            "text/plain": [
              "Index(['ID', 'Severity', 'Start_Time', 'End_Time', 'Start_Lat', 'Start_Lng',\n",
              "       'End_Lat', 'End_Lng', 'Distance(mi)', 'Description', 'Number', 'Street',\n",
              "       'Side', 'City', 'County', 'State', 'Zipcode', 'Country', 'Timezone',\n",
              "       'Airport_Code', 'Weather_Timestamp', 'Temperature(F)', 'Wind_Chill(F)',\n",
              "       'Humidity(%)', 'Pressure(in)', 'Visibility(mi)', 'Wind_Direction',\n",
              "       'Wind_Speed(mph)', 'Precipitation(in)', 'Weather_Condition', 'Amenity',\n",
              "       'Bump', 'Crossing', 'Give_Way', 'Junction', 'No_Exit', 'Railway',\n",
              "       'Roundabout', 'Station', 'Stop', 'Traffic_Calming', 'Traffic_Signal',\n",
              "       'Turning_Loop', 'Sunrise_Sunset', 'Civil_Twilight', 'Nautical_Twilight',\n",
              "       'Astronomical_Twilight'],\n",
              "      dtype='object')"
            ]
          },
          "metadata": {},
          "execution_count": 17
        }
      ]
    },
    {
      "cell_type": "code",
      "source": [
        "len(df.City.unique())"
      ],
      "metadata": {
        "colab": {
          "base_uri": "https://localhost:8080/"
        },
        "id": "c17Pbc4O1k7A",
        "outputId": "cef1269d-0bc2-4066-970d-27754fe2c2cd"
      },
      "execution_count": null,
      "outputs": [
        {
          "output_type": "execute_result",
          "data": {
            "text/plain": [
              "11682"
            ]
          },
          "metadata": {},
          "execution_count": 18
        }
      ]
    },
    {
      "cell_type": "code",
      "source": [
        "cities_by_accident = df.City.value_counts()\n",
        "cities_by_accident[:20]"
      ],
      "metadata": {
        "colab": {
          "base_uri": "https://localhost:8080/"
        },
        "id": "Y97h6dFZ1k3c",
        "outputId": "8f3969c4-9742-4a4d-a348-7b45b0cb6662"
      },
      "execution_count": null,
      "outputs": [
        {
          "output_type": "execute_result",
          "data": {
            "text/plain": [
              "Miami           106966\n",
              "Los Angeles      68956\n",
              "Orlando          54691\n",
              "Dallas           41979\n",
              "Houston          39448\n",
              "Charlotte        33152\n",
              "Sacramento       32559\n",
              "San Diego        26627\n",
              "Raleigh          22840\n",
              "Minneapolis      22768\n",
              "Portland         20944\n",
              "Nashville        20267\n",
              "Austin           18301\n",
              "Baton Rouge      18182\n",
              "Phoenix          17143\n",
              "Saint Paul       16869\n",
              "New Orleans      16251\n",
              "Atlanta          15622\n",
              "Jacksonville     14967\n",
              "Richmond         14349\n",
              "Name: City, dtype: int64"
            ]
          },
          "metadata": {},
          "execution_count": 19
        }
      ]
    },
    {
      "cell_type": "code",
      "source": [
        "cities_by_accident[:20].plot(kind='barh')"
      ],
      "metadata": {
        "colab": {
          "base_uri": "https://localhost:8080/",
          "height": 282
        },
        "id": "xNSMcKGpUDZi",
        "outputId": "f5767ba5-3fde-42e3-a8f9-9d92d7a59ae0"
      },
      "execution_count": null,
      "outputs": [
        {
          "output_type": "execute_result",
          "data": {
            "text/plain": [
              "<matplotlib.axes._subplots.AxesSubplot at 0x7fb2bfb33a90>"
            ]
          },
          "metadata": {},
          "execution_count": 20
        },
        {
          "output_type": "display_data",
          "data": {
            "text/plain": [
              "<Figure size 432x288 with 1 Axes>"
            ],
            "image/png": "[encoded data removed]"
          },
          "metadata": {
            "needs_background": "light"
          }
        }
      ]
    },
    {
      "cell_type": "code",
      "source": [
        "import seaborn as sns\n",
        "sns.set_style(\"darkgrid\")\n",
        "sns.histplot(cities_by_accident, log_scale=True)"
      ],
      "metadata": {
        "colab": {
          "base_uri": "https://localhost:8080/",
          "height": 300
        },
        "id": "wjTzd_PuUDWC",
        "outputId": "6ed8f746-483f-499f-d9bc-13d316117b39"
      },
      "execution_count": null,
      "outputs": [
        {
          "output_type": "execute_result",
          "data": {
            "text/plain": [
              "<matplotlib.axes._subplots.AxesSubplot at 0x7fb2b7e2c310>"
            ]
          },
          "metadata": {},
          "execution_count": 21
        },
        {
          "output_type": "display_data",
          "data": {
            "text/plain": [
              "<Figure size 432x288 with 1 Axes>"
            ],
            "image/png": "[encoded data removed]"
          },
          "metadata": {}
        }
      ]
    },
    {
      "cell_type": "code",
      "source": [
        "cities_by_accident[cities_by_accident == 1]"
      ],
      "metadata": {
        "colab": {
          "base_uri": "https://localhost:8080/"
        },
        "id": "Rr0piqf4locN",
        "outputId": "06815434-4a2d-4c24-dbf4-7344c83b20fa"
      },
      "execution_count": null,
      "outputs": [
        {
          "output_type": "execute_result",
          "data": {
            "text/plain": [
              "Carney                          1\n",
              "Waverly Hall                    1\n",
              "Center Sandwich                 1\n",
              "Glen Flora                      1\n",
              "Sulphur Springs                 1\n",
              "                               ..\n",
              "Ridgedale                       1\n",
              "Sekiu                           1\n",
              "Wooldridge                      1\n",
              "Bullock                         1\n",
              "American Fork-Pleasant Grove    1\n",
              "Name: City, Length: 1110, dtype: int64"
            ]
          },
          "metadata": {},
          "execution_count": 22
        }
      ]
    },
    {
      "cell_type": "code",
      "source": [
        "high_accident_cities = cities_by_accident[cities_by_accident>=1000]\n",
        "low_accident_cities = cities_by_accident[cities_by_accident<1000]"
      ],
      "metadata": {
        "id": "D1tQko32UDSS"
      },
      "execution_count": null,
      "outputs": []
    },
    {
      "cell_type": "code",
      "source": [
        "high_accident_cities.head()"
      ],
      "metadata": {
        "colab": {
          "base_uri": "https://localhost:8080/"
        },
        "id": "UmcYsNPCKbyR",
        "outputId": "8c07803c-6b55-4921-a0cf-9012df56f0d5"
      },
      "execution_count": null,
      "outputs": [
        {
          "output_type": "execute_result",
          "data": {
            "text/plain": [
              "Miami          106966\n",
              "Los Angeles     68956\n",
              "Orlando         54691\n",
              "Dallas          41979\n",
              "Houston         39448\n",
              "Name: City, dtype: int64"
            ]
          },
          "metadata": {},
          "execution_count": 24
        }
      ]
    },
    {
      "cell_type": "code",
      "source": [
        "\n",
        "len(high_accident_cities) / len(df.City.unique())"
      ],
      "metadata": {
        "colab": {
          "base_uri": "https://localhost:8080/"
        },
        "id": "IKiDx43pUDMa",
        "outputId": "ba954c3e-006f-41b5-cf2a-d569b57eca14"
      },
      "execution_count": null,
      "outputs": [
        {
          "output_type": "execute_result",
          "data": {
            "text/plain": [
              "0.04245848313644924"
            ]
          },
          "metadata": {},
          "execution_count": 25
        }
      ]
    },
    {
      "cell_type": "code",
      "source": [
        "sns.histplot(high_accident_cities, log_scale=True)"
      ],
      "metadata": {
        "colab": {
          "base_uri": "https://localhost:8080/",
          "height": 300
        },
        "id": "Sjd1ocJbUDJS",
        "outputId": "640c753a-8c7a-4b53-f01b-d9b35919ad14"
      },
      "execution_count": null,
      "outputs": [
        {
          "output_type": "execute_result",
          "data": {
            "text/plain": [
              "<matplotlib.axes._subplots.AxesSubplot at 0x7fb2b7c8fa90>"
            ]
          },
          "metadata": {},
          "execution_count": 26
        },
        {
          "output_type": "display_data",
          "data": {
            "text/plain": [
              "<Figure size 432x288 with 1 Axes>"
            ],
            "image/png": "[encoded data removed]"
          },
          "metadata": {}
        }
      ]
    },
    {
      "cell_type": "markdown",
      "source": [
        "### Start Time"
      ],
      "metadata": {
        "id": "Ar2uy2XDoiE1"
      }
    },
    {
      "cell_type": "code",
      "source": [
        "df.Start_Time"
      ],
      "metadata": {
        "colab": {
          "base_uri": "https://localhost:8080/"
        },
        "id": "SC9f6ru3UDDS",
        "outputId": "b0dbba4a-1915-4232-a70c-88ffb65db918"
      },
      "execution_count": null,
      "outputs": [
        {
          "output_type": "execute_result",
          "data": {
            "text/plain": [
              "0          2016-02-08 00:37:08\n",
              "1          2016-02-08 05:56:20\n",
              "2          2016-02-08 06:15:39\n",
              "3          2016-02-08 06:51:45\n",
              "4          2016-02-08 07:53:43\n",
              "                  ...         \n",
              "2845337    2019-08-23 18:03:25\n",
              "2845338    2019-08-23 19:11:30\n",
              "2845339    2019-08-23 19:00:21\n",
              "2845340    2019-08-23 19:00:21\n",
              "2845341    2019-08-23 18:52:06\n",
              "Name: Start_Time, Length: 2845342, dtype: object"
            ]
          },
          "metadata": {},
          "execution_count": 27
        }
      ]
    },
    {
      "cell_type": "code",
      "source": [
        "df.Start_Time = pd.to_datetime(df.Start_Time)"
      ],
      "metadata": {
        "id": "qoNet4shTSZ2"
      },
      "execution_count": null,
      "outputs": []
    },
    {
      "cell_type": "code",
      "source": [
        "df.Start_Time.dt.hour"
      ],
      "metadata": {
        "colab": {
          "base_uri": "https://localhost:8080/"
        },
        "id": "PA5hUX4lTSWk",
        "outputId": "b2773f49-f7a9-4182-c960-2e2dd8d35986"
      },
      "execution_count": null,
      "outputs": [
        {
          "output_type": "execute_result",
          "data": {
            "text/plain": [
              "0           0\n",
              "1           5\n",
              "2           6\n",
              "3           6\n",
              "4           7\n",
              "           ..\n",
              "2845337    18\n",
              "2845338    19\n",
              "2845339    19\n",
              "2845340    19\n",
              "2845341    18\n",
              "Name: Start_Time, Length: 2845342, dtype: int64"
            ]
          },
          "metadata": {},
          "execution_count": 29
        }
      ]
    },
    {
      "cell_type": "code",
      "source": [
        "sns.histplot(df.Start_Time.dt.hour, bins = 24, stat='percent');"
      ],
      "metadata": {
        "colab": {
          "base_uri": "https://localhost:8080/",
          "height": 281
        },
        "id": "8Z9cFvHtTSS0",
        "outputId": "b00e2d71-883f-4f4f-8e8e-cb67f44a4217"
      },
      "execution_count": null,
      "outputs": [
        {
          "output_type": "display_data",
          "data": {
            "text/plain": [
              "<Figure size 432x288 with 1 Axes>"
            ],
            "image/png": "[encoded data removed]"
          },
          "metadata": {}
        }
      ]
    },
    {
      "cell_type": "markdown",
      "source": [
        "- A high percentage of accident occure 2 pm to 6 pm"
      ],
      "metadata": {
        "id": "m8Y3szCTzxhn"
      }
    },
    {
      "cell_type": "code",
      "source": [
        "sns.histplot(df.Start_Time.dt.weekday, bins = 18, stat='percent')"
      ],
      "metadata": {
        "colab": {
          "base_uri": "https://localhost:8080/",
          "height": 297
        },
        "id": "2KvRjSCiTSO8",
        "outputId": "8cbffc56-e140-4853-9c16-dbb8b74c181b"
      },
      "execution_count": null,
      "outputs": [
        {
          "output_type": "execute_result",
          "data": {
            "text/plain": [
              "<matplotlib.axes._subplots.AxesSubplot at 0x7fb2b7a3a970>"
            ]
          },
          "metadata": {},
          "execution_count": 31
        },
        {
          "output_type": "display_data",
          "data": {
            "text/plain": [
              "<Figure size 432x288 with 1 Axes>"
            ],
            "image/png": "[encoded data removed]"
          },
          "metadata": {}
        }
      ]
    },
    {
      "cell_type": "markdown",
      "source": [
        "Is the distribution of accident on weekend as on weekday"
      ],
      "metadata": {
        "id": "iDYYzJik1Ytr"
      }
    },
    {
      "cell_type": "code",
      "source": [
        "sunday_start_time = df.Start_Time[df.Start_Time.dt.weekday == 6]\n",
        "sns.histplot(sunday_start_time.dt.hour, bins = 24, stat='percent')"
      ],
      "metadata": {
        "colab": {
          "base_uri": "https://localhost:8080/",
          "height": 297
        },
        "id": "BlV6uzkM2J-d",
        "outputId": "405efc31-480e-4a62-e03f-be89d707469a"
      },
      "execution_count": null,
      "outputs": [
        {
          "output_type": "execute_result",
          "data": {
            "text/plain": [
              "<matplotlib.axes._subplots.AxesSubplot at 0x7fb2bfb99040>"
            ]
          },
          "metadata": {},
          "execution_count": 32
        },
        {
          "output_type": "display_data",
          "data": {
            "text/plain": [
              "<Figure size 432x288 with 1 Axes>"
            ],
            "image/png": "[encoded data removed]"
          },
          "metadata": {}
        }
      ]
    },
    {
      "cell_type": "code",
      "source": [
        "sunday_start_time = df.Start_Time[df.Start_Time.dt.weekday == 0]\n",
        "sns.histplot(sunday_start_time.dt.hour, bins = 24, stat='percent')"
      ],
      "metadata": {
        "colab": {
          "base_uri": "https://localhost:8080/",
          "height": 297
        },
        "id": "poxO83sQ2J6S",
        "outputId": "db0a04b2-70af-48f8-992f-a1628ab363b0"
      },
      "execution_count": null,
      "outputs": [
        {
          "output_type": "execute_result",
          "data": {
            "text/plain": [
              "<matplotlib.axes._subplots.AxesSubplot at 0x7fb2b7c3e100>"
            ]
          },
          "metadata": {},
          "execution_count": 33
        },
        {
          "output_type": "display_data",
          "data": {
            "text/plain": [
              "<Figure size 432x288 with 1 Axes>"
            ],
            "image/png": "[encoded data removed]"
          },
          "metadata": {}
        }
      ]
    },
    {
      "cell_type": "markdown",
      "source": [
        "- on sunday accident peak occures beetween 12 am to 5 pm"
      ],
      "metadata": {
        "id": "M52l-IOI3Cne"
      }
    },
    {
      "cell_type": "code",
      "source": [
        "sns.histplot(df.Start_Time.dt.month, bins = 12, stat='percent')"
      ],
      "metadata": {
        "colab": {
          "base_uri": "https://localhost:8080/",
          "height": 297
        },
        "id": "bH70-6pn2J1a",
        "outputId": "18563798-a083-4f59-d860-20c09bdb8481"
      },
      "execution_count": null,
      "outputs": [
        {
          "output_type": "execute_result",
          "data": {
            "text/plain": [
              "<matplotlib.axes._subplots.AxesSubplot at 0x7fb2b7a790a0>"
            ]
          },
          "metadata": {},
          "execution_count": 34
        },
        {
          "output_type": "display_data",
          "data": {
            "text/plain": [
              "<Figure size 432x288 with 1 Axes>"
            ],
            "image/png": "[encoded data removed]"
          },
          "metadata": {}
        }
      ]
    },
    {
      "cell_type": "code",
      "source": [
        "df_2019 = df[df.Start_Time.dt.year == 2019]"
      ],
      "metadata": {
        "id": "UdfGvLwDIsZD"
      },
      "execution_count": null,
      "outputs": []
    },
    {
      "cell_type": "code",
      "source": [
        "sns.histplot(df_2019.Start_Time.dt.month, bins = 12, stat='percent')"
      ],
      "metadata": {
        "colab": {
          "base_uri": "https://localhost:8080/",
          "height": 297
        },
        "id": "6oGBri-eJdzZ",
        "outputId": "db188396-821c-468c-fba2-da4fe9120db5"
      },
      "execution_count": null,
      "outputs": [
        {
          "output_type": "execute_result",
          "data": {
            "text/plain": [
              "<matplotlib.axes._subplots.AxesSubplot at 0x7fb2b797ca30>"
            ]
          },
          "metadata": {},
          "execution_count": 36
        },
        {
          "output_type": "display_data",
          "data": {
            "text/plain": [
              "<Figure size 432x288 with 1 Axes>"
            ],
            "image/png": "[encoded data removed]"
          },
          "metadata": {}
        }
      ]
    },
    {
      "cell_type": "markdown",
      "source": [
        "### Start Latitude & Longitude"
      ],
      "metadata": {
        "id": "AMTxtiPILRtQ"
      }
    },
    {
      "cell_type": "code",
      "source": [
        "sample_df =  df.sample(int(0.1*len(df)))\n",
        "sns.scatterplot(x = sample_df.Start_Lng, y = sample_df.Start_Lat)"
      ],
      "metadata": {
        "colab": {
          "base_uri": "https://localhost:8080/",
          "height": 299
        },
        "id": "gUqyvxQWLc2E",
        "outputId": "f0caa31f-5e12-4eaf-d028-d68bc0228ee7"
      },
      "execution_count": null,
      "outputs": [
        {
          "output_type": "execute_result",
          "data": {
            "text/plain": [
              "<matplotlib.axes._subplots.AxesSubplot at 0x7fb2b794d310>"
            ]
          },
          "metadata": {},
          "execution_count": 39
        },
        {
          "output_type": "display_data",
          "data": {
            "text/plain": [
              "<Figure size 432x288 with 1 Axes>"
            ],
            "image/png": "[encoded data removed]"
          },
          "metadata": {}
        }
      ]
    },
    {
      "cell_type": "code",
      "source": [
        "df.Start_Lat"
      ],
      "metadata": {
        "id": "okpQ5msB2JyC",
        "colab": {
          "base_uri": "https://localhost:8080/"
        },
        "outputId": "280b666f-3c52-4b43-942c-276b45f95100"
      },
      "execution_count": null,
      "outputs": [
        {
          "output_type": "execute_result",
          "data": {
            "text/plain": [
              "0          40.108910\n",
              "1          39.865420\n",
              "2          39.102660\n",
              "3          41.062130\n",
              "4          39.172393\n",
              "             ...    \n",
              "2845337    34.002480\n",
              "2845338    32.766960\n",
              "2845339    33.775450\n",
              "2845340    33.992460\n",
              "2845341    34.133930\n",
              "Name: Start_Lat, Length: 2845342, dtype: float64"
            ]
          },
          "metadata": {},
          "execution_count": 37
        }
      ]
    },
    {
      "cell_type": "code",
      "source": [
        "df.Start_Lng"
      ],
      "metadata": {
        "colab": {
          "base_uri": "https://localhost:8080/"
        },
        "id": "KsZM46mvLc4-",
        "outputId": "fe1d6dee-141b-448f-8126-a1b3c655b741"
      },
      "execution_count": null,
      "outputs": [
        {
          "output_type": "execute_result",
          "data": {
            "text/plain": [
              "0          -83.092860\n",
              "1          -84.062800\n",
              "2          -84.524680\n",
              "3          -81.537840\n",
              "4          -84.492792\n",
              "              ...    \n",
              "2845337   -117.379360\n",
              "2845338   -117.148060\n",
              "2845339   -117.847790\n",
              "2845340   -118.403020\n",
              "2845341   -117.230920\n",
              "Name: Start_Lng, Length: 2845342, dtype: float64"
            ]
          },
          "metadata": {},
          "execution_count": 38
        }
      ]
    },
    {
      "cell_type": "code",
      "source": [
        "zip(list(df.Start_Lat), list(df.Start_Lng))"
      ],
      "metadata": {
        "colab": {
          "base_uri": "https://localhost:8080/"
        },
        "id": "T-4lcBUOXs3U",
        "outputId": "5f9b0c43-a862-4de3-ad0f-a72c90411cdf"
      },
      "execution_count": null,
      "outputs": [
        {
          "output_type": "execute_result",
          "data": {
            "text/plain": [
              "<zip at 0x7fb2b5a63b00>"
            ]
          },
          "metadata": {},
          "execution_count": 47
        }
      ]
    },
    {
      "cell_type": "code",
      "source": [
        "import folium\n",
        "from folium.plugins import HeatMap"
      ],
      "metadata": {
        "id": "dNi3ud-DXvzb"
      },
      "execution_count": null,
      "outputs": []
    },
    {
      "cell_type": "code",
      "source": [
        "sample_df = df.sample(int(0.001 * len(df)))\n",
        "lat_lon_pairs = list(zip(list(sample_df.Start_Lat), list(sample_df.Start_Lng)))"
      ],
      "metadata": {
        "id": "1FTQC832XzKL"
      },
      "execution_count": null,
      "outputs": []
    },
    {
      "cell_type": "code",
      "source": [
        "map = folium.Map()\n",
        "HeatMap(lat_lon_pairs).add_to(map)\n",
        "map"
      ],
      "metadata": {
        "colab": {
          "base_uri": "https://localhost:8080/",
          "height": 763
        },
        "id": "o_-K-ugIX2mb",
        "outputId": "d8b8b5ce-2a70-4cf2-91ce-9f575c7fafd8"
      },
      "execution_count": null,
      "outputs": [
        {
          "output_type": "execute_result",
          "data": {
            "text/plain": [
              "<folium.folium.Map at 0x7fb29d493ac0>"
            ],
            "text/html": [
              "<div style=\"width:100%;\"><div style=\"position:relative;width:100%;height:0;padding-bottom:60%;\"><span style=\"color:#565656\">Make this Notebook Trusted to load map: File -> Trust Notebook</span><iframe srcdoc=\"&lt;!DOCTYPE html&gt;\n",
              "&lt;html&gt;\n",
              "&lt;head&gt;\n",
              "    \n",
              "    &lt;meta http-equiv=&quot;content-type&quot; content=&quot;text/html; charset=UTF-8&quot; /&gt;\n",
              "    \n",
              "        &lt;script&gt;\n",
              "            L_NO_TOUCH = false;\n",
              "            L_DISABLE_3D = false;\n",
              "        &lt;/script&gt;\n",
              "    \n",
              "    &lt;style&gt;html, body {width: 100%;height: 100%;margin: 0;padding: 0;}&lt;/style&gt;\n",
              "    &lt;style&gt;#map {position:absolute;top:0;bottom:0;right:0;left:0;}&lt;/style&gt;\n",
              "    &lt;script src=&quot;https://cdn.jsdelivr.net/npm/leaflet@1.6.0/dist/leaflet.js&quot;&gt;&lt;/script&gt;\n",
              "    &lt;script src=&quot;https://code.jquery.com/jquery-1.12.4.min.js&quot;&gt;&lt;/script&gt;\n",
              "    &lt;script src=&quot;https://maxcdn.bootstrapcdn.com/bootstrap/3.2.0/js/bootstrap.min.js&quot;&gt;&lt;/script&gt;\n",
              "    &lt;script src=&quot;https://cdnjs.cloudflare.com/ajax/libs/Leaflet.awesome-markers/2.0.2/leaflet.awesome-markers.js&quot;&gt;&lt;/script&gt;\n",
              "    &lt;link rel=&quot;stylesheet&quot; href=&quot;https://cdn.jsdelivr.net/npm/leaflet@1.6.0/dist/leaflet.css&quot;/&gt;\n",
              "    &lt;link rel=&quot;stylesheet&quot; href=&quot;https://maxcdn.bootstrapcdn.com/bootstrap/3.2.0/css/bootstrap.min.css&quot;/&gt;\n",
              "    &lt;link rel=&quot;stylesheet&quot; href=&quot;https://maxcdn.bootstrapcdn.com/bootstrap/3.2.0/css/bootstrap-theme.min.css&quot;/&gt;\n",
              "    &lt;link rel=&quot;stylesheet&quot; href=&quot;https://maxcdn.bootstrapcdn.com/font-awesome/4.6.3/css/font-awesome.min.css&quot;/&gt;\n",
              "    &lt;link rel=&quot;stylesheet&quot; href=&quot;https://cdnjs.cloudflare.com/ajax/libs/Leaflet.awesome-markers/2.0.2/leaflet.awesome-markers.css&quot;/&gt;\n",
              "    &lt;link rel=&quot;stylesheet&quot; href=&quot;https://cdn.jsdelivr.net/gh/python-visualization/folium/folium/templates/leaflet.awesome.rotate.min.css&quot;/&gt;\n",
              "    \n",
              "            &lt;meta name=&quot;viewport&quot; content=&quot;width=device-width,\n",
              "                initial-scale=1.0, maximum-scale=1.0, user-scalable=no&quot; /&gt;\n",
              "            &lt;style&gt;\n",
              "                #map_97691592ceee38a57431513c675e8fe5 {\n",
              "                    position: relative;\n",
              "                    width: 100.0%;\n",
              "                    height: 100.0%;\n",
              "                    left: 0.0%;\n",
              "                    top: 0.0%;\n",
              "                }\n",
              "            &lt;/style&gt;\n",
              "        \n",
              "    &lt;script src=&quot;https://cdn.jsdelivr.net/gh/python-visualization/folium@master/folium/templates/leaflet_heat.min.js&quot;&gt;&lt;/script&gt;\n",
              "&lt;/head&gt;\n",
              "&lt;body&gt;\n",
              "    \n",
              "    \n",
              "            &lt;div class=&quot;folium-map&quot; id=&quot;map_97691592ceee38a57431513c675e8fe5&quot; &gt;&lt;/div&gt;\n",
              "        \n",
              "&lt;/body&gt;\n",
              "&lt;script&gt;\n",
              "    \n",
              "    \n",
              "            var map_97691592ceee38a57431513c675e8fe5 = L.map(\n",
              "                &quot;map_97691592ceee38a57431513c675e8fe5&quot;,\n",
              "                {\n",
              "                    center: [0, 0],\n",
              "                    crs: L.CRS.EPSG3857,\n",
              "                    zoom: 1,\n",
              "                    zoomControl: true,\n",
              "                    preferCanvas: false,\n",
              "                }\n",
              "            );\n",
              "\n",
              "            \n",
              "\n",
              "        \n",
              "    \n",
              "            var tile_layer_722f03e75e4fd127b753cb7b53c155fd = L.tileLayer(\n",
              "                &quot;https://{s}.tile.openstreetmap.org/{z}/{x}/{y}.png&quot;,\n",
              "                {&quot;attribution&quot;: &quot;Data by \\u0026copy; \\u003ca href=\\&quot;http://openstreetmap.org\\&quot;\\u003eOpenStreetMap\\u003c/a\\u003e, under \\u003ca href=\\&quot;http://www.openstreetmap.org/copyright\\&quot;\\u003eODbL\\u003c/a\\u003e.&quot;, &quot;detectRetina&quot;: false, &quot;maxNativeZoom&quot;: 18, &quot;maxZoom&quot;: 18, &quot;minZoom&quot;: 0, &quot;noWrap&quot;: false, &quot;opacity&quot;: 1, &quot;subdomains&quot;: &quot;abc&quot;, &quot;tms&quot;: false}\n",
              "            ).addTo(map_97691592ceee38a57431513c675e8fe5);\n",
              "        \n",
              "    \n",
              "            var heat_map_6ad0a49ac2f79b7e979dcbf041cd5c36 = L.heatLayer(\n",
              "                [[33.760219, -83.308154], [35.261891, -118.659756], [34.157046, -119.220892], [38.740579, -120.662926], [36.952847, -120.273675], [41.11757, -73.48787], [39.520429, -76.199229], [32.844509, -117.211551], [28.53900100000001, -81.314877], [34.056878999999995, -117.298067], [34.01085, -117.430897], [43.262933, -73.532225], [40.05005900000001, -76.349962], [25.704022, -80.297226], [34.133287, -119.098373], [28.66544600000001, -81.418981], [32.804171999999994, -117.151016], [42.975509, -78.91102099999998], [38.84436, -77.08109], [28.8961, -82.10120699999997], [26.00525, -80.16678], [32.99918, -97.2941], [41.112506, -73.79553], [25.687184, -80.384491], [28.539432, -81.477958], [39.77836, -104.895773], [35.501707, -78.326114], [25.829173, -80.205963], [39.71596, -84.21965], [28.26538, -80.71808], [27.388818, -82.453604], [44.96984000000001, -93.30537], [33.914390000000004, -84.34968], [37.654634, -122.407056], [28.332509, -81.51414], [38.919255, -77.216696], [45.347148, -118.144502], [38.299947, -122.033797], [36.838419, -76.19645], [35.932019, -79.920612], [45.391523, -92.856812], [45.07408, -93.31875], [37.401913, -122.070003], [41.01929000000001, -73.628815], [39.129791, -76.861645], [34.249097, -117.290744], [44.5646, -94.37589], [30.447224, -97.789725], [38.01348, -122.26154], [35.96928, -83.9276], [40.771461, -74.156856], [39.13564, -94.58696], [32.21318, -110.9797], [30.168231, -81.583174], [42.75908, -71.23170999999998], [36.750158, -119.844371], [38.432589, -122.729998], [45.15919, -93.393039], [39.64871, -104.9161], [42.453006, -85.65465999999998], [37.001953, -81.09215999999998], [33.813446, -118.167683], [28.356936, -80.70016700000002], [28.50589, -81.414838], [33.96158, -118.36932], [47.312654, -115.232795], [40.73825, -73.83675], [37.61659, -120.984078], [34.190047, -79.800025], [39.91863, -74.945554], [32.839089, -117.13518899999998], [34.063072, -117.296499], [40.50437, -111.89334], [34.015435, -117.342633], [28.190524, -82.46073], [28.35663, -81.364106], [41.577859, -72.14000899999998], [29.728735, -95.44129], [41.806122, -88.133107], [37.701151, -121.82371299999998], [43.490878, -70.492492], [33.085209000000006, -117.107529], [39.811413, -121.916126], [41.41133, -73.45255999999998], [28.509396, -81.421021], [33.996067, -117.889763], [35.24915, -118.598495], [47.050613, -123.231078], [40.747851, -73.760265], [38.827717, -77.455298], [28.476026, -81.396732], [32.7587, -97.21288], [38.435014, -120.854405], [33.889006, -118.18881100000002], [30.51343, -81.6345], [33.742561, -84.36813000000002], [26.617047, -81.708304], [38.612315, -121.401475], [34.138998, -81.84419799999998], [35.035586, -85.152604], [29.438985, -98.456015], [28.344803, -81.364062], [33.516683, -112.151519], [38.603431, -121.401548], [39.830205, -85.586639], [25.484367, -80.49375500000002], [33.645358, -117.643257], [29.48685, -95.39782], [38.715463, -121.392416], [40.906382, -124.025288], [33.54688, -86.75026], [26.578442, -81.696552], [45.49834, -122.6732], [42.269972, -123.024419], [27.551659, -81.69805500000002], [32.72078, -97.06241], [38.27545900000001, -122.67453799999998], [28.695226, -81.559292], [32.888157, -117.204025], [37.34365, -121.85571000000002], [34.338626, -118.507304], [35.523257, -118.668848], [39.981915, -75.265381], [39.801404, -85.99638], [38.012863, -122.11789], [41.719279, -88.339572], [40.795107, -124.027996], [42.980566, -78.787062], [38.741719, -77.471713], [29.717735, -95.53675], [32.78798, -117.114116], [40.294247, -74.682927], [42.39532, -82.98926], [36.339479, -117.423623], [33.87269000000001, -118.05933], [32.901540000000004, -96.8979], [41.88608, -87.92061], [38.936126, -77.208574], [41.35022100000001, -75.387476], [37.558635, -121.103306], [34.037005, -118.28808], [34.162888, -117.331795], [25.63516, -80.375504], [33.829806, -117.114777], [33.876192, -118.130569], [25.760878, -80.419588], [25.927492, -80.21419300000002], [38.896969, -75.85269100000002], [44.926911, -93.274551], [35.163408000000004, -89.86664], [38.57713, -77.32564], [40.731552, -74.039439], [38.852179, -76.973832], [42.73893, -73.69893], [30.422732, -91.136099], [37.267025, -121.859102], [45.541624, -94.109684], [30.8066, -83.34246], [36.628922, -82.125173], [41.002381, -73.691153], [37.105656, -120.224775], [33.621401, -117.714415], [41.79024, -112.17298999999998], [37.640244, -122.090467], [40.72862, -74.13561999999997], [42.543804, -76.596537], [45.5828, -122.79974], [32.315609, -110.959698], [35.349186, -78.66765600000002], [33.988451, -117.843108], [33.864787, -118.32682], [38.609488, -77.304724], [38.55781, -121.38707], [44.61788, -121.1336], [34.030282, -118.257216], [34.72593, -86.59646], [37.667417, -122.395134], [40.459569, -76.517073], [38.865827, -77.051525], [28.567046, -81.210233], [38.657214, -121.364439], [45.6128, -122.67823], [34.8175, -118.881944], [35.264205, -81.085796], [40.001655, -75.339248], [32.746769, -96.725936], [32.643166, -117.101449], [42.09158, -83.674835], [32.784871, -97.321049], [36.376987, -84.244011], [33.451132, -79.560612], [45.55539, -122.56731], [35.20294000000001, -80.73888000000002], [34.990094, -81.980799], [29.990598, -90.07001600000002], [28.299459, -82.610525], [36.799134, -76.17806800000002], [46.58688, -92.58105], [40.83005, -73.93219], [40.484801, -74.400025], [34.192602, -118.141275], [30.487482, -87.196838], [37.247902, -93.346309], [39.9719, -83.0807], [39.52361, -104.86993], [29.992766, -90.076994], [31.278365, -87.20223], [27.89046500000001, -81.599651], [38.58544000000001, -90.345363], [33.705732, -117.337743], [39.195172, -76.632593], [34.191441, -118.326739], [34.02441, -117.55923], [36.706537, -119.80887], [29.58757, -98.3489], [34.22571, -84.47803], [45.06581, -93.16524], [34.175108, -118.392866], [39.758123, -84.244843], [32.86356, -96.54565], [47.42378, -122.28294], [39.01189, -77.06349], [42.991611, -122.38876299999998], [35.02373, -80.96769], [38.900722, -77.184965], [41.28935900000001, -87.297533], [33.67054, -117.826228], [38.84267, -77.05275], [45.389249, -122.74989], [34.859933000000005, -82.267411], [34.032971999999994, -118.137931], [35.999101, -79.862868], [27.270477000000003, -82.49754200000002], [30.48591, -81.642907], [30.536832, -87.326036], [37.998126, -121.811133], [43.991307, -92.229098], [25.785609, -80.192052], [41.81068, -87.63031], [29.198253, -82.17225], [33.854792, -79.772525], [25.770067, -80.31324000000002], [38.639785, -121.197148], [25.731812, -80.335697], [40.921535, -111.891972], [33.869713, -118.05512], [40.117356, -75.350346], [28.485529, -81.417363], [45.05812, -110.760022], [41.7149, -87.63618000000002], [34.074012, -118.233562], [41.253697, -76.925934], [26.936416, -82.332293], [34.907184, -117.118244], [39.016031, -77.029864], [45.43741, -122.76513], [38.487562, -121.451806], [34.450542, -82.350921], [37.701747, -122.141155], [46.07757, -93.850701], [29.366, -94.94838], [42.53991, -85.66076], [34.142748, -118.02075], [35.045495, -81.812884], [40.505587, -78.61980600000003], [32.818841, -96.68446], [34.049031, -118.436179], [35.843656, -78.682802], [25.890169, -80.188806], [33.447728999999995, -117.635559], [37.647016, -118.923877], [29.967939, -90.107779], [34.154858000000004, -118.310865], [37.419573, -122.31859], [36.13325, -75.83821], [38.511233, -90.33599], [40.087039, -75.386871], [33.871517, -81.034759], [45.753888, -119.152584], [26.133116, -80.391823], [40.33746, -79.80877], [40.609213, -74.15124499999997], [41.0512, -111.624967], [38.931198, -94.528011], [37.767187, -121.334272], [37.822382, -121.291806], [37.814501, -122.300287], [27.719218, -82.681306], [33.996261, -117.840467], [40.762547, -73.757387], [33.88469, -117.52153], [34.995156, -85.398949], [33.549236, -117.780868], [39.27412, -75.86140999999998], [28.524414, -81.459101], [41.63825, -81.37893000000003], [32.841937, -117.120576], [33.55811, -111.87995], [32.898677, -96.715017], [33.980409, -118.43906], [36.75349, -119.77979], [28.359878, -81.2431], [32.271962, -110.978999], [33.719775, -117.795048], [45.669222, -111.125087], [30.439044, -91.189886], [27.78186, -82.6612], [38.737627, -120.779694], [45.687021, -123.903197], [25.760371, -80.336021], [37.742869, -121.561755], [28.243885, -82.354281], [37.355995, -77.41898], [32.894905, -96.809246], [40.844573, -73.903002], [43.7916, -91.303349], [41.431214, -124.018916], [32.665884000000005, -97.324691], [37.855612, -121.27433], [30.413608, -91.136693], [39.147017, -78.160442], [27.300588, -82.530535], [28.952676, -81.25867], [33.941178, -118.096711], [36.880199, -119.960609], [28.425243, -81.474407], [41.764052, -72.693687], [35.931869, -119.909044], [41.73616, -88.03056], [37.532161, -122.006381], [34.066422, -117.990881], [29.164809, -82.18504899999998], [45.115715, -93.806787], [45.750345, -123.195793], [40.207832, -111.63334], [41.028204, -76.853706], [25.505925, -80.412529], [37.81401500000001, -122.47786], [35.7637, -78.702849], [36.88626, -121.55957], [38.039351, -78.834625], [29.59192, -95.38624], [42.871001, -78.79000699999997], [38.837137, -77.119337], [40.72576, -112.005507], [45.508042, -122.776969], [33.704516, -117.953243], [25.79808, -80.337137], [39.644411, -75.798872], [41.38946, -82.16136999999998], [38.512519, -77.857517], [32.80087, -96.784928], [33.93461, -118.17691], [32.71609, -117.11965], [32.985705, -96.711236], [33.917766, -118.179148], [33.212519, -86.798774], [39.78737, -104.98952], [32.7438, -96.72415], [43.827092, -91.765109], [45.171393, -122.521966], [30.238738, -97.859249], [32.713881, -96.648551], [28.473619, -81.455182], [37.883635, -122.179643], [38.496171, -121.434783], [29.785109, -95.559073], [37.914588, -122.317518], [44.869934, -122.897261], [25.640571, -80.335564], [46.425979, -95.091058], [29.204384, -82.184718], [35.859, -78.68011], [32.123033, -103.114245], [34.063721, -117.267261], [38.65655200000001, -77.28003299999997], [42.27475, -84.38757], [33.86962800000001, -118.055103], [43.142765, -77.549495], [40.72499000000001, -73.557], [33.90473, -116.55281], [37.300645, -79.351937], [25.947317, -80.151248], [25.988424, -80.165965], [33.858684999999994, -118.033412], [40.00043, -122.219378], [39.934749, -120.882121], [41.663643, -91.283179], [25.571139, -80.429415], [45.12882000000001, -92.76237], [40.37913, -76.66490999999998], [36.9878, -121.970598], [39.380031, -77.142981], [25.89597, -80.37914], [37.125731, -113.600939], [33.96069, -117.31252], [26.203203, -80.151317], [33.569658000000004, -117.67206000000002], [39.307093, -111.614324], [29.726540000000004, -95.46599], [39.11209, -94.564874], [44.75587700000001, -122.416483], [33.96638, -118.164896], [34.313709, -118.488801], [34.02382, -117.76465], [33.803388, -117.145134], [41.014194, -73.71716500000002], [43.118259, -73.726601], [35.24414, -78.632292], [37.689928, -97.3127], [34.109120000000004, -117.98121], [41.154065, -73.40234699999998], [40.764662, -111.9244], [36.24054, -80.293], [37.45506500000001, -79.842596], [44.922998, -93.274522], [45.240572, -93.6632], [34.06046, -118.21515], [34.704806, -118.794557], [41.53984000000001, -81.62746], [30.502448, -91.128838], [37.083696, -120.261315], [39.848378, -77.07036], [41.198738, -87.284775], [29.516113, -98.423453], [32.544903999999995, -84.873214], [40.0764, -75.53741], [29.439462, -98.481212], [33.84253, -117.87619], [33.955345, -84.357042], [47.636376, -122.323348], [35.217186, -119.393914], [40.51384, -74.40446999999998], [41.261663, -76.984341], [45.191094, -122.840116], [35.794933, -78.583499], [40.594986, -74.234522], [32.85217, -83.64152], [43.683694, -123.300272], [33.93631, -118.09346], [25.683088, -80.40050500000002], [33.302965, -80.786674], [37.410861, -122.075818], [32.14294, -110.906662], [44.93998, -93.075537], [33.801165999999995, -117.186788], [42.926589, -85.647974], [42.38771, -83.43563], [38.337411, -81.708816], [38.669359, -121.543338], [37.066385, -121.219227], [27.75559, -82.67675], [32.45332, -85.36873], [45.40485200000001, -122.744182], [39.339154, -76.51472], [33.901070000000004, -117.46963], [43.619526, -116.352582], [38.898584, -77.011887], [34.115781, -117.521003], [32.83021, -117.11792], [33.81271, -118.297356], [37.605617, -121.872645], [30.435684, -81.89981800000002], [30.631176, -85.987938], [31.851346000000003, -106.454232], [47.637314, -122.344427], [38.293576, -121.3136], [26.611273, -80.068526], [44.431228, -121.878511], [40.140061, -75.131174], [38.066757, -112.690984], [33.805498, -117.904352], [30.55127, -91.044002], [32.792775, -96.7925], [30.595301, -87.170956], [39.912048, -75.2542], [38.751005, -77.185096], [38.878545, -76.993796], [34.14755, -118.08203799999998], [33.80722, -84.37979], [41.19018, -73.68769], [28.551894, -81.492329], [39.1358, -77.69221], [40.88525900000001, -74.067933], [32.221528, -110.873062], [36.711097, -119.778326], [42.835499, -71.298408], [45.03576, -92.80746], [40.87412, -73.90555], [33.876536, -118.082241], [26.491986, -81.943304], [37.58664, -122.33448], [43.996443, -95.953078], [38.011895, -121.660614], [25.95802, -80.17108], [27.491194, -82.471221], [40.846899, -73.93353499999998], [39.65994, -80.0111], [28.823806, -81.65713000000002], [26.097221, -80.240643], [37.193065, -80.27359100000002], [39.218004, -121.641558], [38.45866, -122.422691], [39.869005, -75.313781], [33.455714, -80.660461], [41.068735, -83.66372700000002], [28.497348, -81.39694], [38.718166, -121.29801299999998], [33.867282, -117.261578], [26.185261, -80.152076], [35.53182, -97.56569], [34.06728, -117.55282], [42.55703, -93.25941], [47.670589, -122.322324], [38.860931, -121.550354], [37.73475300000001, -122.191375], [44.62992, -123.06071], [25.748935, -80.33579399999998], [38.710335, -122.610965], [34.039364, -81.09362], [36.12984, -115.29706000000002], [41.73555, -74.06583], [39.5663, -119.489465], [40.31641, -111.72624], [37.692512, -122.062559], [33.892989, -118.364365], [39.725583, -105.017733], [30.004262, -90.029002], [32.951246999999995, -96.90939], [32.378808, -111.109587], [34.201239, -118.403727], [29.867566, -81.39675], [35.843975, -78.68062900000002], [42.744513, -73.76169399999998], [30.46162600000001, -91.110548], [43.151736, -77.581388], [39.04333, -76.95053], [42.33524600000001, -83.215888], [34.0137, -118.17226], [37.36686, -121.996186], [38.905307, -120.839854], [33.83426, -117.93701], [45.506433, -122.715429], [42.98668, -83.725444], [36.12525, -86.7332], [29.921804, -90.101443], [46.325429, -94.962033], [38.897877, -121.077221], [28.325731, -81.39930600000002], [42.274072, -88.179028], [33.761118, -117.920171], [39.259352, -112.107491], [35.527504, -120.678476], [38.50068, -90.46089], [40.71848, -111.89177], [36.151409, -86.751244], [33.3865, -111.62135], [37.530273, -77.333461], [34.12, -117.81892], [37.31204, -122.276196], [38.23507, -122.46106], [33.83503, -118.08627], [37.078742, -76.44861999999998], [37.736791, -122.140264], [25.716603, -80.431279], [40.079161, -75.68873599999998], [25.883515, -80.214325], [35.73240999999999, -78.651258], [34.15943, -118.6373], [37.630845, -120.997656], [34.729071999999995, -114.546266], [44.944942, -93.077974], [33.778678, -117.89522], [36.141203, -86.817068], [39.501917, -119.782305], [32.32324000000001, -111.03742], [33.925224, -118.328775], [41.092855, -76.884762], [34.52061, -82.692316], [39.777513, -86.030877], [42.461761, -79.312158], [38.65528, -122.595966], [44.028557, -92.678121], [39.52862, -86.87204], [41.22381, -96.03919], [33.983872, -117.972079], [35.32254000000001, -120.835473], [26.941787, -80.15235], [32.94396, -96.90395], [41.29206, -72.920776], [32.9886, -96.93902], [30.037674, -89.92677900000002], [34.99146, -85.48156], [42.50284, -71.12862], [32.645619, -96.855263], [36.29386, -120.686501], [40.724788, -73.558916], [34.03717, -118.08882], [33.296607, -117.46173600000002], [39.4372, -104.87823], [28.526606, -81.472585], [40.977922, -78.54995699999998], [29.77754, -95.37185], [43.458271, -123.323532], [30.38684000000001, -91.163233], [38.668535, -121.351726], [48.342136, -102.830846], [25.687078, -80.364561], [38.894242, -104.785048], [37.03538, -77.097476], [34.781717, -111.613959], [38.36728, -90.38454], [34.706610999999995, -80.69897399999998], [38.559364, -121.51398600000002], [30.43077700000001, -97.725767], [34.26891, -118.47224], [39.010573, -76.861327], [34.506261, -79.42917299999998], [39.03837, -94.33649], [33.863547, -98.5414], [37.908807, -121.224356], [38.57514000000001, -121.55244], [29.100961, -81.02635699999998], [36.148487, -86.74557800000002], [41.726458, -72.776656], [40.262287, -111.207877], [36.841018, -76.196727], [38.5037, -90.33919], [34.13368, -117.6784], [33.853672, -117.911528], [33.130638, -117.09273600000002], [33.6389, -79.03198], [39.811438, -83.190332], [45.386077, -112.70948], [40.604245, -75.640366], [33.326039, -117.159044], [35.013674, -85.537565], [40.689908, -111.95199], [45.279367, -122.666035], [40.07068, -75.152148], [32.100385, -111.254071], [34.071459999999995, -118.12511], [28.256369, -81.488851], [44.05963, -93.146482], [34.11928, -117.895521], [32.788106, -96.791321], [33.8763, -118.094], [37.783898, -122.188315], [37.541628, -122.285081], [25.819515, -80.282878], [37.856239, -122.259234], [38.84463, -76.86309], [25.760882, -80.39381800000002], [34.03069, -118.25814], [38.117455, -122.295085], [33.630275, -112.11651100000002], [39.948037, -78.229984], [33.923627, -81.249842], [42.538236, -83.749562], [26.33133, -81.75186], [29.94377, -90.091996], [32.880114, -96.804063], [33.876572, -118.072566], [34.030575, -117.641516], [40.672326, -73.999093], [39.215491, -76.655835], [38.882522, -77.230126], [33.638071999999994, -112.222619], [30.379667, -91.095489], [32.736878999999995, -96.877147], [36.26868, -121.14484], [40.433539, -77.947772], [30.17343300000001, -81.745788], [37.606099, -121.025911], [39.049161, -94.64124], [32.91311, -117.116717], [39.697755, -86.143552], [30.472092, -87.225115], [42.429942, -124.42071], [34.844449, -82.553698], [47.35426, -122.29663899999998], [33.869407, -117.750331], [33.945024, -118.094763], [33.943843, -117.288568], [45.521873, -122.665149], [37.418199, -76.813949], [35.898525, -78.672822], [42.662883, -84.205173], [37.89739, -122.0817], [35.817, -78.61635], [25.895897, -80.22530400000002], [29.935181, -90.086826], [35.83417199999999, -78.768764], [38.873118, -77.44528000000003], [26.161491, -80.162829], [38.549309, -121.9039], [26.815878, -80.130833], [34.069548, -117.967409], [31.22309000000001, -81.520646], [39.885778, -75.059794], [35.886012, -78.525808], [34.329584999999994, -118.117998], [40.081527, -74.937315], [34.584140000000005, -118.35881], [34.187034000000004, -117.355393], [25.654672, -80.397024], [38.73776, -85.81655], [34.1563, -118.25498], [33.718189, -84.397798], [35.99475, -86.692319], [39.632009, -106.058546], [39.29586, -76.61086], [29.951831, -95.557676], [38.996626, -94.78123], [28.743179, -81.297871], [44.968079, -122.990028], [38.716288, -120.669152], [34.014335, -118.281218], [37.992603, -122.306302], [39.594555, -76.067112], [40.42707, -80.03085], [47.59002, -122.288], [45.150611, -93.391708], [29.981511, -95.346072], [42.391973, -122.422533], [32.64885, -96.77621], [36.799854, -121.783221], [29.552395, -98.586397], [30.37918, -97.674971], [35.30612, -118.91439], [34.227157, -77.950873], [27.449191, -82.565235], [40.18457, -75.22769100000002], [26.462740000000004, -80.1748], [44.138902, -93.249508], [37.1339, -104.52149], [35.424267, -82.528234], [35.160003, -120.67711], [33.67771, -84.41282], [39.482333, -76.403041], [38.37566, -121.47668], [38.649213, -90.191901], [32.23592, -110.96718], [28.338641, -81.53995400000002], [35.148268, -80.803282], [39.00985, -94.69381], [28.516574, -81.379531], [30.290156, -81.964497], [30.622255, -88.13047399999998], [38.880017, -76.999881], [30.152463, -85.48988100000003], [39.540277, -76.258195], [35.26413, -81.069505], [47.08129, -122.67589], [33.138119, -117.157115], [47.301122, -122.197788], [40.70937, -73.84206], [34.803921, -82.232591], [39.907061, -74.97819399999999], [38.849187, -76.92561500000002], [38.862, -104.7942], [34.57398, -80.62304499999998], [38.564063, -121.635523], [38.538229, -121.513503], [40.703418, -73.479357], [25.769442, -80.33892900000002], [37.63211, -77.45047], [37.03483, -120.818151], [39.772713, -104.829953], [29.80355, -95.28137], [25.729988, -80.361565], [38.57368, -121.5818], [34.888895, -82.094953], [34.12925300000001, -117.942407], [44.00097, -123.01538], [43.238571, -77.702876], [29.937252, -90.095855], [40.823742, -73.877812], [37.214735, -79.40115300000002], [43.74814, -93.45208], [30.5633, -87.30971], [39.476634, -107.99214], [35.10755, -106.61522], [45.97715, -94.482947], [40.611551, -74.030996], [43.165, -77.68306], [27.802962, -82.655801], [38.66408, -121.35702], [28.440881, -81.474471], [28.509231, -81.402114], [36.15922, -115.235606], [44.302356, -120.861481], [32.756883, -117.222074], [37.258228, -122.122496], [39.01965, -76.98029], [40.527133, -74.340363], [33.821435, -117.876252], [38.494869, -121.437136], [31.8412, -106.44506], [34.094752, -118.205967], [33.825938, -118.245374], [34.12086, -117.882713], [41.22662, -81.62698], [25.849199, -80.205199], [43.31709, -122.82928], [41.50864, -74.0204], [35.117396, -78.760257], [25.73318900000001, -80.36776400000002], [33.873206, -118.342586], [28.450781, -81.477807], [32.71739, -86.48354599999998], [38.22286, -85.66849], [26.351491, -80.118173], [35.205822, -89.769623], [37.7794, -122.1703], [30.298558, -97.72007], [34.290440999999994, -82.018833], [34.179484, -118.395326], [30.437444, -91.024235], [29.670091, -95.262811], [39.58745, -84.229878], [34.048183, -117.946385], [34.518495, -111.98906], [36.995851, -76.415093], [35.864873, -78.598239], [39.800924, -86.00405500000002], [42.262258, -87.903989], [38.471451, -79.696726], [30.144503000000004, -97.572331], [34.054065, -118.205069], [45.81114, -118.391317], [28.605654, -81.30754499999998], [33.67544, -117.84075], [42.3634, -88.11166], [43.054094, -83.709767], [39.161099, -123.583992], [30.348376, -97.69392], [47.85713, -117.64391], [32.92455, -96.78246], [33.59475, -117.17732], [35.752719, -78.648709], [40.88445, -123.959952], [43.089054, -122.070411], [45.12482, -93.21324], [36.844035, -76.02083], [26.1655, -80.17905], [33.881791, -117.582518], [26.193188, -80.151614], [33.121337, -111.737718], [41.14435, -75.9631], [45.13171, -93.443377], [33.89775, -117.47803], [25.763164, -80.301721], [38.59793300000001, -121.446799], [28.387537, -81.506474], [44.771658, -93.288334], [38.79888, -77.32555], [34.067451, -117.583714], [33.85608, -118.02469], [28.539112, -81.309354], [35.680788, -78.621601], [37.383892, -77.416156], [38.935042, -94.695979], [37.874366, -76.812333], [28.492141, -81.458805], [33.74971, -118.01095], [32.764395, -117.205334], [33.870016, -117.670663], [34.493274, -118.209654], [25.763863, -80.303919], [47.57486, -122.17571], [33.643539000000004, -117.604527], [28.121062, -81.931067], [45.912305, -94.114433], [40.719511, -73.406367], [33.970495, -117.330268], [45.595729, -106.835723], [28.4805, -81.330711], [38.574977, -121.373343], [28.48095, -81.458694], [37.114393, -77.867011], [33.89698, -117.48058], [40.58407, -73.92036999999998], [43.718219, -123.212001], [40.287263, -75.31185699999997], [34.70682, -86.670918], [43.34062, -124.31714], [37.69072, -122.092358], [26.702071000000004, -80.072653], [35.212866, -80.859427], [35.889789, -78.562477], [25.812538, -80.136713], [34.832636, -110.143958], [37.841401, -122.297368], [45.232136, -94.004874], [28.60378900000001, -81.30995], [38.783961, -90.495776], [34.106704, -118.328531], [33.988941, -117.361096], [29.126799, -82.081779], [38.91184000000001, -77.22043000000002], [41.098748, -74.03745500000002], [40.236727, -76.333876], [43.120443, -83.69444399999998], [33.50432, -86.89002099999998], [45.276358, -122.77233], [38.89205, -77.00352099999998], [36.02472, -78.95047], [38.52594000000001, -77.36499], [35.018742, -85.29042199999998], [38.493284, -122.752033], [40.084809, -74.175185], [40.7694, -73.27976], [39.794642, -75.46732800000002], [37.907164, -122.314949], [37.550264, -77.353139], [44.796855, -93.901327], [25.825006, -80.20649], [33.124606, -117.104196], [34.066422, -117.990881], [27.890875, -82.787027], [27.937662, -82.290255], [37.81904, -122.25362], [32.86716, -97.31602], [35.905108, -78.590091], [29.680906, -95.371531], [32.862583, -96.770152], [34.00473, -118.17285], [34.045693, -117.931821], [33.876755, -118.177387], [41.505509, -112.05877], [29.39676, -98.51372], [29.73062800000001, -95.501127], [44.863411, -123.008283], [25.948629, -80.35169], [34.120173, -117.786949], [33.879365, -117.554288], [36.808995, -119.785117], [38.01643, -121.88658999999998], [30.189224, -97.856719], [34.042999, -118.220985], [40.018587, -75.166816], [39.03574, -94.36189], [40.906356, -74.25917700000002], [25.884795, -80.243217], [35.203415, -80.76021800000002], [28.024207, -82.239398], [41.168802, -112.020352], [34.270595, -118.488439], [45.202764, -123.128017], [32.757488, -117.21801299999998], [35.817264, -89.96894], [39.121445, -119.760535], [37.531388, -121.94085], [35.40626, -80.87465999999998], [35.891511, -78.56056600000002], [35.891699, -119.05349], [29.822386, -95.33507], [38.903854, -77.01893299999998], [37.00877, -119.946926], [33.987383, -118.392542], [33.509543, -112.198807], [41.90977, -72.632013], [40.847758, -74.352561], [35.1634, -90.21583], [39.94969, -77.599836], [38.334062, -79.050673], [40.64443, -74.64341999999998], [25.94459800000001, -80.121172], [25.489634, -80.45599], [34.20121, -78.05205], [25.806911, -80.31311600000002], [38.356736, -81.64550899999998], [39.099094, -76.628326], [39.82395, -86.203171], [40.58788, -111.987328], [37.466755, -76.893653], [29.779543, -95.452466], [39.16095, -84.559825], [37.3167, -121.97522], [36.161854, -86.777733], [33.870907, -117.388913], [39.105951, -94.728541], [37.70314000000001, -121.73756000000002], [46.743705, -92.153272], [35.77713499999999, -78.675873], [37.410674, -122.074477], [30.164224, -97.787865], [45.531045, -122.665175], [46.852512, -92.785744], [45.58084, -118.61906], [33.985118, -118.060334], [40.744374, -74.213708], [35.718019, -78.583795], [32.860934, -96.770172], [32.523457, -81.14938199999997], [33.82615, -118.20504], [43.015431, -83.714143], [40.696903000000006, -74.123731], [34.863297, -114.640537], [30.318092, -81.727498], [29.703685, -95.53791], [40.104477, -74.136912], [34.487512, -118.46343600000002], [45.62088, -118.01388500000002], [29.516004, -98.450923], [35.539276, -77.990336], [28.418169, -81.409671], [28.600318, -81.418219], [39.833233, -84.29812700000002], [35.20241, -80.727189], [33.878386, -118.3405], [38.255895, -122.064649], [32.747405, -117.155276], [27.94467, -82.47267], [41.125055, -92.721658], [29.992965, -90.080541], [34.165391, -118.480782], [35.252466, -92.911227], [35.81882, -78.59583], [36.758015, -76.29597], [32.757596, -96.77186], [25.941223, -80.306794], [34.1479, -118.07553], [29.78648, -95.10203], [41.63523, -93.77708], [39.088244, -77.515952], [41.539236, -72.759532], [33.971569, -118.080936], [41.646534, -78.813709], [38.925021, -94.527536], [32.673811, -117.082829], [40.73217, -73.91944000000002], [34.099963, -80.958198], [27.795790000000004, -82.66164], [34.03305, -118.13004], [36.1817, -86.79969], [33.986503000000006, -118.398281], [32.993479, -80.088341], [26.569608, -80.17319], [25.747537, -80.337062], [33.796598, -80.632961], [35.098797, -80.932084], [37.380282, -122.067735], [34.841111, -118.863905], [44.669041, -93.635858], [45.244765, -122.584305], [41.808498, -87.80209599999998], [34.491369, -118.20199], [29.020821999999995, -80.925124], [29.77716, -95.5628], [34.128164, -81.246735], [33.928085, -118.340919], [33.9739, -118.07995], [42.77115, -87.95376], [39.14744, -84.53922], [35.442421, -97.569791], [30.480991, -84.315569], [34.05603, -117.54662], [25.885897, -80.224823], [45.51186, -122.66723], [38.449567, -81.852424], [40.127159000000006, -75.350176], [25.81169, -80.20049], [27.98723, -82.3262], [45.525378, -122.662061], [34.019496999999994, -117.550095], [37.841795, -77.979015], [36.161233, -86.774743], [28.574577, -81.298144], [38.814579, -81.728099], [40.923059, -77.51423100000002], [40.83663, -73.949062], [33.981344, -117.841595], [34.06812, -117.97862], [27.941641, -82.548716], [33.984633, -117.348469], [35.391289, -118.985245], [37.69813, -121.94081], [35.866951, -78.68470400000002], [42.368016, -83.058813], [35.094241, -81.656816], [40.182603, -75.331746], [44.240068, -92.07444], [39.01525, -77.00563000000002], [25.578714, -80.369339], [25.944404, -80.356788], [42.48953, -83.28806], [35.415443, -119.038997], [43.102924, -83.763419], [45.288804, -93.757461], [41.42195, -81.72785999999998], [25.702162, -80.336089], [45.5353, -122.68621], [45.152155, -121.644726], [25.670941, -80.414505], [41.550794, -73.056936], [28.435979, -81.405638], [33.92848, -118.28932], [30.27298, -82.75804000000002], [28.43135, -80.78825], [35.696055, -78.583062], [43.005305, -74.77326], [43.12936, -123.406934], [32.880247999999995, -96.739675], [35.449834, -86.048304], [28.466598, -81.464412], [33.991069, -117.550277], [39.997339, -78.264531], [43.974183, -92.462493], [42.371211, -83.752216], [34.12089, -117.89467], [33.249086, -101.4637], [34.114503000000006, -118.336281], [36.76457, -121.756485], [26.545428, -81.78840699999998], [38.071285, -78.18599499999998], [47.61953, -122.32821], [32.927040000000005, -96.76204], [28.392489, -81.377542], [43.000644, -83.6455], [28.599789, -81.41793299999998], [33.927675, -118.269535], [34.020183, -118.240568], [26.12789, -80.16954], [33.70708, -117.77947], [38.362791, -122.524684], [30.686069, -86.78902], [40.507911, -121.824891], [34.034389000000004, -118.17771], [30.474044, -97.975023], [28.536912, -81.525796], [39.590401, -76.070542], [40.146093, -80.307405], [32.92426, -96.78078], [25.805304, -80.337346], [34.026501, -117.332984], [33.498261, -112.219559], [36.40055, -120.139027], [33.385973, -111.924903], [44.175521, -93.955196], [35.196404, -80.82703599999998], [28.326047, -82.527775], [35.8917, -119.053934], [42.758029, -73.740059], [38.436301, -112.632983], [29.682777, -95.559143], [39.34564, -119.2399], [29.732968, -95.492702], [39.415914, -77.434669], [43.54002, -119.50738], [28.526290000000003, -81.38615], [26.0535, -80.16234], [38.927502, -76.927944], [38.27209000000001, -85.70147], [29.886167, -95.3009], [33.561436, -117.109176], [41.842857, -91.66592], [47.64153, -122.93826], [33.562171, -86.734071], [34.296698, -118.42297], [41.87926, -72.3012], [39.29775, -80.61379000000002], [26.100522, -80.361181], [34.120705, -117.899388], [35.765338, -78.58221], [37.321574, -120.543099], [32.909152, -96.698232], [34.090586, -117.301701], [36.699437, -119.536933], [25.588659, -80.384888], [35.11273, -85.22981999999998], [41.225358, -95.970645], [25.747808, -80.33247800000002], [35.263316, -80.880135], [30.32791, -97.66455], [42.34628, -122.87533], [41.714652, -76.473833], [32.83185, -96.63149], [41.196951, -112.025827], [32.81268, -97.20838], [25.685208, -80.422887], [25.579611, -80.368463], [45.90134000000001, -123.144668], [33.742536, -117.437822], [44.920493, -124.011642], [34.107495, -117.302302], [25.886365, -80.164575], [40.229257, -76.44733599999998], [39.631827, -106.288231], [34.083523, -118.305764], [41.801168, -72.803489], [32.284376, -81.08024300000002], [26.20755, -80.13985], [40.46484, -78.408078], [28.99407, -81.916364], [32.837740000000004, -96.87542], [32.918221, -96.855886], [40.611329, -111.90618], [45.91, -119.404968], [37.983995, -77.492591], [33.198614, -117.123786], [39.044585, -121.101931], [32.846629, -96.637137], [25.926068, -80.15206500000002], [28.602679, -81.722048], [44.233543, -93.439569], [33.873732000000004, -118.257332], [25.867955, -80.24910899999998], [29.964483, -90.0648], [28.194338, -82.39121], [39.484638, -77.246565], [38.554726, -121.404322], [33.29188, -111.7898], [39.05182, -84.62276], [36.8336, -76.13217], [37.478617, -79.787339], [40.04178, -86.22216999999998], [39.083041, -94.592952], [25.894803, -80.124397], [40.24108, -75.24284], [33.546583, -112.12046], [45.973799, -117.272701], [28.408204, -81.44808], [38.221797, -122.12782], [33.888689, -118.192819], [45.191305, -122.839411], [41.714871, -87.7406], [35.269864, -81.151777], [29.78992, -95.37181], [43.287516, -124.227787], [34.970372, -104.871207], [30.415952, -91.071397], [38.559148, -121.379579], [45.30601, -122.76952], [30.420911, -87.308288], [25.863028, -80.322622], [27.895478000000004, -82.347646], [34.752725, -86.746725], [38.291497, -77.476031], [42.847548, -85.616809], [39.097444, -94.574058], [47.337566, -94.622272], [38.53993, -112.99119], [34.293609000000004, -118.413259], [38.83859, -104.516834], [39.76437, -105.59305], [25.79808, -80.337137], [35.919307, -78.570359], [47.351707, -115.291289], [33.876332, -118.013731], [38.64207, -121.155181], [47.137106, -93.562724], [33.92783, -117.28859], [44.97245, -117.879348], [29.624405, -90.760509], [32.587322, -81.200002], [40.765759, -74.047216], [33.761036, -118.024553], [35.375961, -118.938509], [42.94428900000001, -83.696209], [45.53512, -122.5643], [32.915420000000005, -79.88608], [33.60652, -117.79962], [39.97923, -82.9814], [33.992068, -118.402353], [38.426246, -122.71348], [37.546975, -77.448708], [32.78033, -97.21251], [25.98085, -80.165627], [39.448673, -77.38655200000002], [38.99051, -94.70017], [33.458621, -85.12420999999998], [39.617754, -77.693462], [37.725092, -77.449823], [39.094601, -76.62947700000002], [40.45056500000001, -79.998372], [29.605337, -83.040138], [32.770918, -96.813937], [38.126079, -122.269107], [39.62829, -84.22606], [38.58952, -104.91442], [37.753439, -122.403051], [39.205033, -76.94305200000002], [43.076537, -83.7626], [30.05708, -89.94370500000002], [41.772674, -74.05193100000002], [40.7777, -111.91067], [33.857964, -80.115083], [36.00336, -80.18398], [40.659737, -111.901175], [38.411791, -123.09843899999998], [37.5448, -120.901697], [36.878509, -119.688158], [25.830195, -80.333922], [28.567542, -81.286006], [38.056458, -122.530763], [36.220037, -86.693393], [38.61166, -121.40154], [25.787411, -80.17789], [30.784161, -89.135643], [35.042517, -120.581276], [34.077444, -117.623778], [35.30067000000001, -80.80678], [38.685598, -121.557955], [39.018391, -76.920188], [41.239644, -76.725865], [43.42987, -71.58851], [41.02563, -81.50115], [34.016289, -118.158533], [33.924731, -118.210009], [33.74687, -84.38741999999998], [30.105575, -82.263563], [34.03303, -118.27448], [40.445877, -74.424959], [33.91656500000001, -117.300676], [25.876351, -80.24289], [40.502153, -122.335573], [35.19532, -80.88384], [32.914722999999995, -96.438906], [33.92895, -118.36827], [39.66337, -119.992212], [37.822567, -122.320965], [25.914861, -80.211703], [39.656149, -75.651136], [26.427, -80.09026999999998], [30.268566, -97.909943], [38.95959000000001, -76.866327], [39.04253, -120.799667], [37.330104, -121.867671], [38.80544, -77.21318000000002], [33.418302000000004, -117.155379], [34.18168, -118.169669], [37.554734, -79.661661], [33.734140000000004, -84.23092], [36.900142, -76.23531], [25.925513, -80.175177], [25.694972, -80.301057], [33.10385, -97.22258], [38.49629, -123.007056], [32.344599, -111.05759], [42.297532, -85.043116], [40.825656, -73.931218], [43.682551, -116.354033], [44.21953, -121.21421], [30.035623, -89.979947], [33.928474, -118.244572], [35.58186699999999, -80.098579], [34.142368, -118.471571], [40.032159, -75.592013], [44.21499, -123.20444], [42.29824, -83.97071], [39.92142, -75.0393], [30.184466, -81.739308], [41.429398, -73.576888], [39.982433, -75.920813], [35.817067, -78.374978], [36.96168, -122.025402], [25.584993, -80.32532900000002], [36.995049, -120.076686], [33.872762, -118.273877], [27.860556, -82.326528], [41.387, -81.33485999999998], [45.00958, -93.13169], [28.451602, -81.477678], [29.928075, -81.422877], [34.140702000000005, -80.90747900000002], [48.270868, -122.27222], [38.613024, -121.40148], [41.890259, -87.962165], [32.695583, -117.134845], [42.97917, -77.23966899999998], [37.05656, -81.76558], [38.573802, -121.581112], [34.243944, -118.421319], [27.51777, -82.56306], [33.888809, -118.358543], [34.226582, -118.377647], [38.1302, -85.84785], [25.447768, -80.478808], [33.427532, -84.18158100000002], [32.213324, -110.97513], [26.040118, -80.163577], [34.599355, -118.147591], [42.69686, -122.60088], [44.57142, -122.91479], [25.624072, -80.414429], [33.754562, -118.250421], [41.683806, -87.780007], [26.67568, -80.05474], [30.184557, -81.739306], [44.8776, -122.99942], [34.165183, -118.483759], [33.462137, -112.042627], [44.94853, -92.933429], [34.042009, -118.569399], [42.01932, -87.94697], [38.593203, -121.444845], [34.023744, -117.745961], [33.867843, -118.236613], [28.065353, -82.738771], [30.250364, -81.515337], [33.378356, -112.626582], [34.807927, -92.208746], [37.249623, -121.83496], [38.92967, -122.74147], [35.82959, -78.75954], [39.375, -76.50977900000002], [37.78341, -121.246281], [47.58345, -122.22287], [42.959733, -85.672107], [32.462666, -93.722106], [33.984759000000004, -117.365246], [40.947553000000006, -73.748476], [47.650014, -122.322414], [39.98935, -75.20638000000002], [28.736237, -81.112173], [29.726540000000004, -95.46599], [40.303214, -76.82964799999998], [25.7307, -80.317718], [39.613318, -121.691568], [40.89601, -74.019657], [42.15419, -71.06818], [33.990677000000005, -117.90547], [35.704869, -118.180736], [36.730383, -119.286681], [26.597252, -81.851301], [37.366685, -95.258543], [43.14545, -77.55534], [39.321743, -77.354754], [34.032779, -84.044498], [46.09774, -123.74794], [40.981766, -111.897452], [35.832326, -78.666363], [41.031585, -75.32435699999998], [33.689795000000004, -117.885405], [39.588364, -120.359205], [30.586493, -84.596036], [36.608724, -79.551046], [33.870406, -117.744365], [34.018440000000005, -118.28006], [34.777082, -82.460535], [37.31453, -121.82792], [35.271835, -80.836906], [37.710411, -122.166332], [47.464617, -122.217761], [40.212022, -74.762563], [25.978436, -80.35143599999998], [34.071931, -118.266914], [26.5484, -81.91341899999998], [44.960335, -93.269194], [44.063046, -122.81765], [42.851024, -85.54033299999998], [40.734441, -74.125529], [33.831578, -118.292993], [34.910235, -120.346987], [39.272063, -121.068264], [34.15469, -118.316086], [32.881857000000004, -83.933031], [33.853854, -117.955388], [47.661517, -122.300118], [37.738087, -122.193986], [33.780421999999994, -84.24425], [37.711385, -122.127566], [25.627596, -80.429825], [40.681685, -80.225953], [25.926258, -80.200249], [28.666323, -80.868993], [44.91549000000001, -93.14434], [33.941824, -118.07264], [25.925515, -80.171996], [41.65813, -87.58708], [39.260426, -76.702905], [39.11655, -94.56451], [40.52127, -111.89098], [34.030953000000004, -118.29154], [28.53895, -82.479289], [37.22495, -121.97688], [35.11769, -81.07996700000002], [33.8763, -118.119946], [35.239473, -80.852497], [30.427469, -91.084104], [25.915793, -80.37971999999998], [29.785103000000003, -95.660205], [45.273211, -93.006555], [28.510852000000003, -81.494844], [48.682669, -114.773426], [35.973154, -77.879923], [34.153051, -79.407961], [47.32442, -95.76311], [45.353739, -122.763895], [33.511812, -117.158584], [43.53583, -121.62418999999998], [42.635782, -73.777774], [44.179764, -92.571092], [35.798626, -78.657627], [33.14428, -117.19156], [37.36726, -121.84608], [34.13558, -117.99506], [37.91406, -122.06648], [44.864248, -93.428581], [29.709736, -95.516163], [32.76515, -117.16308], [33.575737, -86.715383], [34.187551, -118.10461399999998], [25.928662, -80.188283], [33.694176, -84.29074], [34.066103000000005, -117.254322], [33.823224, -118.207], [36.200133, -121.108893], [37.58451, -77.44736999999998], [40.87807, -74.16599000000002], [34.06745, -117.5355], [33.769775, -117.914741], [34.088891, -117.994462], [35.469006, -84.645291], [38.874767, -77.28289699999998], [28.571154, -81.389436], [43.209232, -77.457533], [37.800026, -79.73304499999998], [35.866581, -78.57153000000002], [34.420326, -119.597375], [32.119259, -111.029031], [33.740571, -117.833925], [25.913007, -80.322551], [37.357535, -113.264859], [37.565656, -122.036894], [35.71805999999999, -119.237134], [37.700798, -122.022916], [34.03181, -118.1884], [40.71816, -111.87594], [45.509027, -122.780041], [36.699174, -81.96982], [25.733464, -80.351741], [37.14435, -121.98468], [44.927998, -73.27436999999998], [25.809273, -80.315635], [25.886734, -80.21080699999997], [42.138056, -122.601126], [29.67429000000001, -95.57293], [44.256301, -121.18143899999998], [42.832121, -83.73232], [33.879719, -117.655016], [44.064452, -121.307283], [34.886666, -82.504875], [37.098789, -121.009455], [41.924317, -78.56958900000002], [40.18385, -74.72254000000002], [34.071325, -118.134484], [27.419307, -82.481629], [30.06038, -89.956909], [38.974395, -76.269911], [35.442098, -119.375993], [27.9909, -82.72936], [32.93568, -96.5533], [34.023724, -117.744544], [33.644774, -117.735047], [25.780179, -80.16986800000002], [29.60162, -81.578712], [33.823355, -84.355005], [33.84672, -117.252391], [25.748719, -80.31981], [29.688926, -95.504444], [45.52995, -122.614299], [40.726448, -73.88941700000002], [29.704012, -95.569934], [41.03126, -81.549438], [41.119455, -73.379305], [34.205997, -118.223399], [44.425485, -121.708946], [41.87534, -87.65185], [45.38613, -122.39642], [37.663981, -121.028285], [37.686692, -122.119033], [33.429395, -112.094186], [33.201757, -117.230559], [38.731044, -120.749047], [38.788194, -90.532968], [33.687519, -117.885656], [32.726954, -96.918396], [29.78475, -95.68309], [29.66481, -81.29196], [44.67754, -87.72999], [37.142297, -120.276507], [44.962613, -92.775089], [39.244114, -76.648218], [32.79575, -96.6922], [34.26217800000001, -119.230461], [30.248942, -97.735884], [39.798606, -110.784534], [37.881746, -122.307966], [35.304084, -120.803661], [25.913022, -80.257124], [45.1386, -93.29066], [36.318279, -119.675627], [30.659994, -85.043564], [37.32132, -121.8345], [40.778284, -73.943124], [29.659791, -82.422371], [38.907868, -94.81602], [43.758545, -118.060157], [40.936298, -73.836515], [42.067191, -87.755531], [40.608159, -79.611867], [34.077628999999995, -117.61873], [25.845269, -80.26315799999998], [37.44797, -121.92153], [34.124866, -117.5095], [39.31829000000001, -120.61101], [35.20868400000001, -118.905257], [40.487958, -111.940747], [39.496375, -75.646458], [33.774102, -118.04968], [35.80106, -78.63161], [33.975093, -118.167793], [40.378525, -80.16126899999998], [37.243341, -121.088336], [33.739513, -117.42834], [33.867671, -98.48579], [38.865718, -121.788893], [45.53213, -122.56612], [35.08767, -80.85295], [33.896214, -118.187654], [36.8374, -76.10122], [28.19165, -82.46588], [29.482031, -82.889247], [34.067366, -117.563705], [30.43429, -91.17663], [40.11652, -75.34903], [41.224879, -73.07686600000002], [38.77441, -77.181905], [37.474064, -122.211475], [47.60505300000001, -122.328297], [45.371498, -122.591774], [45.507762, -122.743806], [36.060955, -95.88229], [39.498091, -77.57101800000002], [45.02289, -93.08985], [28.391544, -81.425169], [37.5481, -77.46646], [33.811932, -117.87814], [45.066288, -93.197178], [32.323158, -111.020497], [39.820486, -75.77624], [34.480022, -118.2962], [30.753961, -85.375088], [29.960369, -90.094296], [37.358204, -77.40405600000003], [40.87898, -74.6511], [45.761715, -119.198001], [34.310442, -118.432134], [37.418029, -77.536147], [33.611090000000004, -112.0996], [39.808536, -76.980226], [41.74981, -72.71993], [33.341113, -87.021406], [41.38877, -81.00805], [33.815222, -118.167676], [32.926021, -96.818966], [33.967783000000004, -118.163582], [40.517046, -78.863741], [44.032897, -93.247106], [39.954669, -75.149468], [33.568546999999995, -117.180976], [40.041012, -75.251373], [39.93808, -75.16844], [35.31862, -80.77882], [34.664621999999994, -120.408149], [32.706457, -117.096267], [38.938369, -109.816225], [38.344643, -77.486751], [36.18791, -86.79855], [42.569698, -113.523486], [34.426725, -112.254346], [45.531284, -122.564807], [37.552407, -122.295388], [45.51564000000001, -122.69931], [32.79735, -117.00534], [43.728858, -111.870571], [34.483054, -117.712755], [33.87698, -118.14665], [25.913698, -80.236203], [34.103978000000005, -118.191171], [33.881962, -117.547108], [40.79759, -73.92018], [33.606823, -114.61078], [30.448025, -97.793021], [40.09836, -75.14325], [40.896016, -74.13324200000002], [28.550108, -81.462582], [32.622233, -117.093283], [34.06401, -117.9991], [45.6055, -122.55006000000002], [32.669261, -96.826681], [40.057084, -75.66848900000002], [44.37325300000001, -93.294085], [40.843261, -73.92662800000002], [34.83931, -82.336037], [34.066728000000005, -117.220861], [43.002923, -83.709264], [35.646244, -117.7011], [28.49616, -81.396924], [34.03998, -117.15415], [43.009103, -85.075098], [38.601084, -121.4015], [33.916412, -118.29172], [39.74411, -105.480234], [44.71723, -93.03498], [26.102045, -80.168727], [35.834473, -78.638216], [30.42141, -97.672179], [42.93712, -83.641511], [33.91089, -118.16892], [41.070977, -111.263266], [33.873735, -118.257318], [38.281266, -77.8754], [29.93278, -95.53719], [40.76785, -74.02175], [33.961846, -84.519897], [34.591384999999995, -82.05208], [25.700738, -80.383452], [43.212486, -124.243307], [25.809148, -80.238846], [41.87238, -71.39437], [38.765173, -76.898358], [39.056485, -78.249085], [42.132187, -72.051231], [33.940714, -117.243776], [33.957828000000006, -118.111836], [37.324792, -121.88675], [25.627037, -80.41460699999998], [41.960892, -72.91740899999998], [38.618031, -121.403517], [38.57569, -121.56774], [38.896229, -121.977093], [29.733464, -95.41876], [36.376838, -119.026444], [38.967384, -94.722255], [41.01771, -74.107803], [33.936014, -84.496218], [37.113713, -93.480711], [40.82242, -73.09541], [26.141352, -80.256984], [30.315431, -81.748205], [34.067409999999995, -118.1635], [27.86516, -82.78758], [26.546773, -81.839364], [39.235524, -121.192011], [45.172338, -93.527023], [25.769735, -80.32304], [33.872834000000005, -118.099781], [45.06664, -93.19233], [42.27686, -84.365912], [28.353484, -81.419774], [35.029104, -120.479194], [27.998732, -82.453583], [27.95593, -82.46595], [37.3172, -121.93203], [34.044281, -81.099553], [33.461405, -112.381693], [36.9508, -113.80165], [44.991841, -93.084861], [38.943188, -120.720277], [44.96605, -93.2478], [28.357090000000003, -80.699164], [34.080341, -118.22606100000002], [39.977391, -105.214508], [28.347349, -81.422213], [39.63176, -82.83608000000002], [35.24646, -80.89244000000002], [42.95062, -78.70363], [42.73059, -84.51061999999997], [34.787381, -92.391039], [33.929448, -118.280221], [39.746903, -122.140897], [37.62789, -122.08164], [33.967752000000004, -118.163341], [38.623805, -121.401514], [36.108269, -78.607281], [45.521539, -122.815743], [36.007357, -119.301706], [37.346354, -121.774196], [25.787736, -80.203661], [41.8249, -87.71891], [36.604589, -119.511399], [40.44987800000001, -80.001039], [29.526422, -98.39309], [42.274263, -88.007487], [29.991733, -90.086155], [34.019776, -118.192272], [39.117293, -123.200323], [39.636104, -104.908336], [32.982449, -96.930568], [38.02307, -122.106122], [38.828724, -76.87586999999998], [40.653136, -73.863283], [34.029247, -117.610174], [40.74093, -73.84333000000002], [33.97508, -84.533067], [38.734828, -121.484387], [36.580492, -121.903427], [40.628268, -74.21336], [31.595474, -90.468482], [44.233285, -122.055562], [34.28242, -118.77369], [39.373333, -123.275691], [33.252124, -117.146782], [40.697851, -111.93892], [37.944934, -122.058524], [38.408203, -77.43086600000002], [33.87533, -118.10443], [34.061361, -117.176839], [29.582272, -98.596821], [32.253831, -86.149693], [45.573454, -118.455048], [29.94177, -90.09621], [37.721956, -122.179498], [25.826541, -80.23888000000002], [29.729355, -95.501107], [32.681075, -117.08673799999998], [28.596190000000004, -81.24457], [38.806471, -76.99011], [32.249684, -110.955368], [44.383959, -123.06147], [33.992459999999994, -118.40302], [41.72277, -87.62376], [42.342916, -88.16923], [33.805819, -118.142449], [25.926119, -80.148117], [34.138524, -117.24286], [37.33387000000001, -122.07106], [34.047397, -118.221389], [32.676140000000004, -97.013229], [35.983241, -83.917433], [30.838287, -91.216125], [40.950282, -73.852983], [32.273486, -110.961039], [28.485529, -81.417363], [32.897616, -96.714274], [39.074302, -78.337358], [25.831619, -80.22999200000002], [33.509268, -112.069552], [26.629582, -81.804682], [35.756964, -78.66077299999998], [40.853329, -73.961325], [40.76652, -73.68774], [34.087394, -117.677971], [34.233615, -117.241469], [38.52244, -77.369013], [34.818698, -82.2768], [37.180237, -93.222792], [34.072568, -118.052455], [34.830005, -82.26266700000002], [41.030414, -124.108959], [35.719154, -109.36498799999998], [40.6794, -111.9022], [42.37498, -83.21669], [47.84655, -122.25881], [39.78465, -104.98937], [41.98095, -87.86844], [34.013403000000004, -117.343972], [32.80477, -79.93689], [44.96396, -93.29047], [41.052228, -73.810476], [45.52721, -122.68695], [44.428979, -121.922589], [42.484101, -82.91745], [25.848653, -80.153114], [43.9309, -121.01572], [33.93828, -118.09807], [35.081741, -111.687753], [40.86551, -77.93895], [26.091874, -80.21857299999998], [40.84939, -73.94194], [37.703657, -122.000159], [34.052692, -118.225636], [39.694987, -86.190866], [42.77115, -87.95376], [39.78553, -105.08371], [39.26908, -76.63109], [38.879964, -76.84403], [35.389677, -119.044429], [27.051771, -82.397042], [35.434337, -118.93188700000002], [32.925556, -96.837603], [35.261896, -118.659735], [34.050096, -117.997408], [44.852446, -93.247135], [40.06373, -75.32651], [38.04312, -122.2409], [34.862784999999995, -120.39368600000002], [38.85521, -84.62245], [32.604372999999995, -97.152865], [33.91369, -118.11368], [33.889571000000004, -84.262636], [33.774464, -118.074628], [29.687561, -95.364153], [41.199868, -111.94872], [37.671906, -122.111463], [38.041137, -122.192333], [32.778698, -117.104477], [39.971495, -83.119118], [39.941082, -75.00658100000003], [35.27553, -80.84261], [27.29997, -82.497632], [40.82309, -73.88274], [30.39477, -97.86692], [39.94456, -74.50121999999998], [40.72788, -122.32192], [40.309521, -76.944002], [41.233502, -122.272285], [33.87698, -118.182069], [34.036431, -117.321893], [47.28959, -122.31208], [32.684658, -117.089613], [28.03592, -82.49193199999998], [44.981866, -123.325347], [33.931027, -118.309118], [45.44362, -122.77743999999998], [30.193916, -81.556609], [29.777012, -95.411662], [34.34368, -79.532864], [30.513856, -91.048326], [37.758085, -121.069261], [36.159411, -86.792273], [37.88427, -122.05352], [33.486940000000004, -117.14279], [33.076488, -116.599166], [30.206156, -81.576792], [41.07852000000001, -111.98078], [43.15474, -75.93839100000002], [39.95278, -83.01775], [37.727508, -122.172706], [30.423597, -91.144584], [26.16625100000001, -80.159687], [28.450097, -81.47683599999998], [42.40815900000001, -122.94813700000002], [45.52301, -122.66551], [45.289211, -121.180715], [43.035185, -123.672589], [36.812097, -76.204842], [45.000616, -93.205828], [33.755193, -117.851945], [32.198663, -86.415592], [25.614294, -80.335819], [45.142532, -93.270632], [32.8375, -79.85805], [40.04098, -75.25139], [40.291168, -74.057924], [40.268159, -111.713049], [28.170801, -81.768654], [37.133487, -79.693412], [40.570331, -74.328099], [35.772246, -78.64229300000002], [28.81634600000001, -81.63000500000003], [33.32975, -117.16071], [34.350414, -118.504124], [34.356944, -79.511324], [33.716025, -117.96698], [35.06457, -80.76174], [35.071676000000004, -85.17195600000002], [44.92474, -93.45139], [36.237577, -86.75789], [39.52337, -119.78354], [44.59189, -92.668791], [33.587661, -84.508842], [33.756654, -118.01931100000002], [48.272151, -121.893089], [35.145509999999994, -80.899039], [38.163338, -79.013446], [38.111036, -120.864155], [34.490358, -82.862495], [43.370304, -121.212076], [42.99584, -88.03781], [36.14824, -86.7452], [43.02878, -77.96481], [35.64436, -78.42334], [41.664639, -87.743045], [44.779804, -117.26135], [39.045943, -94.415261], [40.072492, -74.962774], [33.984608, -83.953236], [34.506446999999994, -82.40716], [28.554164, -81.475942], [40.62202, -73.98725999999998], [41.119991, -73.37834000000002], [29.652643, -95.353125], [32.87181, -96.528422], [37.85443, -122.21998], [39.42321, -77.49399], [37.612414, -122.395028], [32.953035, -97.310426], [36.586791, -121.943373], [44.85857, -93.34663], [33.863615, -81.46977700000002], [34.0643, -117.262944], [38.91313, -76.85022], [37.363718, -121.897999], [40.67385, -73.73456], [36.03641500000001, -119.50035], [40.166394, -75.289247], [38.2175, -122.60386], [29.71277000000001, -95.17897], [29.70913, -95.22475], [33.422396, -117.608858], [42.888544, -83.552524], [40.070659, -75.152182], [34.026222, -117.333453], [40.857933, -76.545624], [40.024433, -75.52249300000003], [36.875256, -76.196826], [25.686874, -80.36586899999998], [44.915791, -122.98883], [32.9069, -96.72828], [38.898328, -77.014235], [39.101493, -119.908749], [36.07647, -79.89765], [41.78453, -71.08006], [41.33108, -81.85767], [40.816393, -73.89416700000002], [40.135223, -122.207602], [36.159101, -86.781622], [40.429033, -79.95638199999998], [42.98211, -83.74221], [40.076778, -75.09174], [34.988865000000004, -85.132759], [32.809056, -97.209833], [33.74324, -84.375738], [32.817186, -96.810821], [39.932246, -122.055808], [39.80258, -105.02021], [38.669359, -121.543338], [41.439367, -122.432724], [32.797054, -96.810418], [34.765259, -78.207195], [37.434953, -77.43164], [26.43128, -81.809216], [38.86634, -77.19501], [28.089793, -82.459716], [33.00345, -80.233391], [33.85535, -117.9698], [40.1989, -80.2701], [38.679834, -121.339404], [40.797505, -77.640102], [35.35277, -119.033228], [33.462198, -112.045837], [25.684756, -80.437157], [27.937577, -82.281414], [44.289773, -121.315528], [32.190874, -110.906413], [38.84118400000001, -76.72766999999997], [39.922696, -86.032723], [25.598634, -80.352987], [38.961348, -104.80137], [32.69128, -96.855757], [34.034905, -81.218965], [37.73799, -122.19428], [38.58862, -121.39143], [34.787804, -117.483199], [32.793921000000005, -96.814409], [33.52891, -111.88575], [41.551724, -73.03335899999998], [28.44886, -81.465857], [33.896652, -117.48422], [40.294748, -76.23294200000002], [42.658339, -122.68315], [42.19677, -87.83075], [45.413564, -94.061883], [44.086437, -91.741805], [41.74245, -72.66277], [34.030406, -117.621508], [39.006771, -77.444024], [42.11734000000001, -122.62294], [43.14386, -77.61824], [34.153533, -118.273473], [35.34364, -80.73784], [34.924367, -81.987335], [28.481654, -82.60807199999998], [33.750525, -117.125667], [33.931027, -118.301365], [26.576771, -81.678301], [37.265356, -76.65145], [33.084909, -80.212932], [41.9578, -88.08115], [37.78302, -121.25801], [36.964086, -121.992406], [29.656575, -82.416202], [32.470567, -84.932161], [47.564642, -111.537596], [45.94682, -93.08145], [41.71448, -87.6468], [44.863303, -93.140105], [47.123295, -122.549396], [29.544417, -95.021763], [33.930457000000004, -117.41423799999998], [40.139527, -80.348421], [40.32607, -78.735613], [34.68769, -111.74394], [37.639106, -76.407476], [35.24952000000001, -80.78106], [42.269049, -84.596303], [25.791746, -80.36877700000002], [39.01596, -76.92723000000002], [35.747175, -78.644545], [41.98764, -73.18335], [33.102971000000004, -117.130146], [33.186124, -117.283033], [44.090022, -123.159771], [34.0259, -118.47096299999998], [25.899331, -80.188855], [45.36132, -122.76082], [36.812621, -76.19489499999997], [34.054262, -118.004172], [38.800551, -77.53156800000002], [25.888462, -80.163954], [25.748036, -80.367866], [33.930135, -117.879831], [33.897887, -117.274887], [29.78372, -95.46021], [25.785266, -80.249923], [34.159664, -118.466114], [33.027636, -117.229778], [30.425851, -91.137736], [33.884836, -117.635051], [37.68427, -122.116714], [28.551959000000004, -81.364441], [39.071428, -94.520882], [30.50042100000001, -86.141417], [37.87411, -79.31155799999998], [40.018869, -75.675834], [27.810337, -82.63448299999997], [44.945717, -93.078639], [33.32886, -111.893273], [42.705473, -83.30009], [39.77939, -86.27016], [37.317377, -121.940322], [34.2742, -118.59077], [40.73926, -73.49525], [29.615041, -82.39060699999997], [42.723205, -73.55578], [44.98021, -93.40055], [35.49622700000001, -119.159603], [32.717785, -117.114223], [30.624717, -89.65254300000002], [47.58997, -122.30412], [39.031535, -76.784327], [35.201193, -78.67154000000002], [45.010335, -93.146471], [32.84607800000001, -97.343109], [40.838071, -73.947932], [40.999892, -78.34622], [36.220031, -86.774774], [35.317444, -80.111977], [37.55754, -77.41278], [42.42438, -71.25769], [43.600865, -116.577534], [28.452261, -81.030403], [35.128935, -80.985117], [29.399553000000004, -98.511453], [35.76937, -78.6354], [32.829777, -79.955588], [37.365325, -108.598336], [28.595706, -81.286478], [33.752058, -117.984259], [39.375, -76.518282], [41.55634000000001, -95.900253], [27.858661, -82.32673299999998], [36.160738, -95.851356], [29.759090000000004, -95.37414], [40.84609, -73.930366], [39.072173, -104.857814], [32.711240000000004, -97.22985], [34.152017, -118.128161], [29.761195, -95.359027], [25.684612, -80.441221], [40.144859, -75.924304], [26.521239, -81.94011400000002], [40.68066500000001, -121.424596], [29.608787, -98.494888], [40.040388, -86.321789], [45.64160800000001, -120.890478], [37.363343, -121.893937], [32.687319, -117.114118], [34.064463, -117.260731], [34.135371, -118.004995], [25.939708, -80.191556], [27.785075, -82.67936999999998], [33.82536, -84.489568], [40.874697, -74.063725], [45.436568, -118.366358], [34.053756, -81.06013100000001], [34.539398, -82.49528000000002], [41.84186, -88.02931], [34.403521000000005, -118.574407], [45.304998, -93.002707], [32.220782, -110.773123], [34.669429, -118.764642], [38.375555, -75.503786], [40.663994, -122.38777], [35.251118, -118.603261], [37.51094000000001, -120.87991], [26.360076, -81.788253], [33.804491, -79.016672], [32.687319, -117.114118], [32.929099, -79.855161], [28.043415000000003, -82.677683], [44.014919, -123.61051299999998], [39.98629, -82.98541], [36.923807, -121.795538], [34.01603, -82.163659], [33.924627, -118.238683], [34.656688, -86.802591], [25.897436, -80.381125], [30.25308, -81.516114], [44.65882, -121.10447], [40.15982, -75.11184], [45.342898, -118.117911], [47.536613, -117.210636], [29.99871, -90.17717], [27.269322, -82.501829], [39.424878, -80.197738], [28.093563, -82.772559], [37.706339, -121.925759], [38.958842, -76.664086], [29.962661, -81.48621800000002], [29.983071, -90.072089], [42.378948, -88.06716899999998], [34.017072, -117.466818], [41.372808, -72.911437], [25.92757000000001, -80.20818], [37.542344, -77.325978], [43.181721, -121.783158], [37.838411, -122.294663], [38.474165, -121.427142], [34.030055, -117.70306], [25.597572, -80.38193199999998], [27.296124, -82.53048299999998], [38.382726, -122.686159], [34.14732, -118.776873], [35.23327000000001, -80.83452], [42.625849, -73.69709], [35.792935, -78.613166], [29.932405, -90.093363], [32.85058, -96.56979], [35.063928000000004, -80.810526], [27.39388, -82.45044], [33.905429, -118.105102], [36.080379, -95.886415], [41.118827, -80.284642], [28.408866, -81.424718], [37.55203, -122.30877], [33.751436, -117.83163], [27.036463, -80.233358], [32.657042, -96.874812], [39.889382, -74.212967], [33.858831, -118.290524], [32.814574, -96.644929], [45.52245, -122.81575], [32.888182, -96.705043], [40.014553, -75.17834], [47.29328, -122.30565], [38.41373, -121.90052], [28.468802, -81.417358], [33.938323, -118.36849], [40.733079, -73.335095], [40.686923, -73.419279], [39.845899, -75.18293], [35.012229999999995, -81.960095], [25.696133, -80.454477], [36.86179600000001, -121.579295], [28.418932, -81.462777], [42.338445, -83.12246800000001], [39.48206, -76.32757600000002], [32.827117, -96.783632], [43.21392700000001, -77.51424499999997], [46.71585200000001, -113.531073], [35.07481, -89.86185], [34.180068, -118.3076], [36.945938, -79.87926800000002], [38.556154, -122.793663], [41.138053, -111.872877], [38.314551, -81.569754], [42.96461, -83.889841], [37.48288, -77.44462], [35.059366, -78.970295], [37.146515, -121.986977], [41.04826, -74.44051], [32.709579999999995, -96.67811], [37.67038, -122.1029], [37.044167, -121.578056], [28.551469, -81.544715], [36.403333, -121.316389], [33.883348, -117.54913700000002], [36.707663, -119.718452], [26.36321, -80.11973], [37.124432, -119.737004], [34.23, -118.26061], [42.308155, -87.857794], [40.814212, -73.896422], [35.248163, -82.323871], [34.067645, -117.980155], [37.199053, -77.45898199999998], [44.56601, -123.15984], [39.267164, -94.442263], [37.056584, -119.71423], [37.876406, -122.046355], [32.705082, -117.095251], [33.376213, -117.253644], [28.310362, -81.566647], [34.171028, -118.158132], [33.324559, -93.300807], [40.136965, -75.154195], [25.712548, -80.382427], [35.208457, -80.757603], [33.877409, -118.015881], [42.588743, -79.055003], [32.786715, -83.719133], [34.219424, -119.225077], [46.989582, -92.909615], [43.029938, -78.0206], [36.846545, -75.99948], [30.673431, -88.127356], [30.278967, -97.687033], [40.253617, -75.209255], [34.114906, -117.977978], [45.634901, -111.133514], [32.787492, -96.684975], [33.876391, -118.1589], [42.359566, -83.075251], [30.359012, -91.008652], [46.68146, -92.46106], [38.018842, -121.94803799999998], [34.154405, -118.384235], [41.540647, -73.01935300000002], [37.681087, -122.124294], [41.64437, -73.78792], [45.031231, -93.452378], [41.60084000000001, -87.189211], [41.29568, -72.69122], [41.209641, -73.18824599999998], [35.420845, -78.52903], [33.917393, -117.985577], [34.265239, -118.472021], [29.62316, -98.24434], [29.990819, -90.070284], [40.10083, -75.304489], [37.959586, -122.330536], [38.713942, -75.107606], [32.863343, -117.110605], [40.11461, -75.349638], [37.587822, -122.357], [34.068142, -117.389591], [28.547273, -81.413824], [30.372947, -97.726121], [44.646054, -93.29578], [25.949026, -80.330673], [45.692351, -120.390285], [39.66967, -86.09566], [41.187643, -75.918809], [40.089873, -111.698223], [35.30042, -80.80164], [35.622664, -86.242407], [46.34654000000001, -94.27509], [41.72552, -72.78145], [33.775686, -118.00825], [30.33284, -97.70395], [25.731104, -80.367715], [37.185791, -120.488184], [36.011667, -79.070012], [36.8407, -76.28636], [34.072806, -118.466716], [30.493743, -84.090546], [30.60178, -81.672753], [34.039970000000004, -118.299767], [33.917066, -118.19172], [38.5337, -121.472447], [34.08101, -117.29844], [28.45165, -81.40056], [34.039732, -118.273133], [28.069293, -82.45944], [39.89709000000001, -86.05776999999998], [41.86603, -71.4027], [33.363766, -117.24935], [39.050012, -94.47033], [28.147234, -81.444839], [39.03486, -76.9074], [27.29875, -82.45019], [45.858832, -110.589067], [33.869407, -117.750331], [33.727421, -117.916248], [41.681112, -76.279546], [35.914016, -78.681775], [37.81052, -122.36465], [30.492027, -84.432281], [33.92491500000001, -117.423993], [39.04606, -94.41796], [38.64142, -121.065489], [40.71857, -112.05689], [29.945705, -90.079523], [34.11868, -84.07712], [34.009109, -80.28625699999998], [33.947924, -80.965152], [33.826771, -92.415729], [37.46178, -77.49789100000002], [36.754127, -76.265748], [37.841377, -122.261805], [38.48532, -121.80799], [28.633274, -81.457042], [33.90511, -93.29439], [36.813038, -121.785614], [33.4149, -84.16601999999997], [43.60036, -116.568432], [26.61303400000001, -81.78977900000002], [40.784778, -73.929991], [25.940932, -80.30678], [39.725371, -104.82464], [29.909540000000003, -90.1654], [41.312445, -73.971738], [45.152664, -92.995401], [29.355982, -98.52648], [34.0687, -117.839494], [39.39491, -76.54515], [37.321876, -121.899286], [38.605383, -121.415369], [38.895093, -119.999678], [28.44667, -81.470866], [43.08621, -88.05729000000002], [40.130497, -74.692559], [34.628608, -82.39123000000002], [33.786590000000004, -84.38311999999998], [45.59823, -122.68432], [34.02811, -117.754173], [34.080365, -117.29801], [29.999859000000004, -90.059127], [42.93656, -78.76644], [39.77012, -104.99179], [38.999009, -94.555958], [34.020092, -117.815084], [27.422314, -80.388561], [29.80953, -95.31285], [36.603859, -87.285636], [34.51803, -111.989739], [45.068636, -93.258514], [43.586081, -70.391049], [45.203731, -93.553403], [32.767409, -96.877267], [41.221855, -123.95934], [35.396506, -118.987622], [40.94556, -124.110567], [44.563941, -123.23484], [38.54471, -77.337255], [35.137699, -119.084554], [30.404543, -97.640566], [32.74828, -96.76929], [41.102741, -122.339205], [33.770909, -117.869202], [28.261603000000004, -80.688099], [33.576264, -84.34416], [44.98109, -122.9929], [44.412993, -94.190264], [41.185972, -111.97128], [41.639717, -77.301317], [36.464533, -119.39437], [25.940336, -80.1887], [34.126196, -117.916106], [40.172973, -76.145761], [32.924298, -96.84151], [43.192867, -75.436109], [44.603847, -123.619786], [33.169283, -117.217869], [39.63334, -104.90668], [32.857357, -117.113784], [35.45692000000001, -97.68908], [35.981451, -83.91834399999998], [30.411874, -86.92703399999998], [25.715143, -80.383777], [33.710829, -117.188147], [29.733995, -95.326749], [36.015315, -86.620864], [37.377322, -121.925271], [25.928281, -80.19380699999998], [36.683681, -79.80404], [33.89779, -118.369799], [29.728572, -95.539295], [35.143159999999995, -80.90163000000003], [33.145774, -87.618189], [37.59487, -120.993584], [30.396713, -84.294632], [33.933473, -118.35347], [29.955890000000004, -95.28892], [36.845855, -76.18288299999998], [42.014647, -88.33628399999998], [36.514344, -78.206241], [33.87628, -118.129082], [35.52297, -76.842265], [32.438032, -93.705587], [37.7392, -121.59158], [30.516532, -97.687758], [35.30778, -80.84533], [35.722748, -78.539304], [34.19938, -79.83731999999998], [35.24652800000001, -80.817104], [34.63055, -118.328527], [36.76451, -119.880266], [34.054241, -118.004437], [44.837324, -120.930453], [39.019975, -76.982778], [34.196673, -79.848943], [29.610043, -95.185833], [32.546931, -93.845788], [42.002496, -87.887794], [41.96629, -87.8739], [39.069689, -74.827097], [28.451531, -81.400598], [38.983622, -77.093852], [26.029153, -80.165261], [37.85515, -122.02963], [44.213789, -105.832929], [33.526281, -117.165267], [39.05626, -94.48411], [35.78515, -78.37335], [43.01862, -87.91695], [28.35741, -81.49181], [41.162594, -85.238649], [38.49240800000001, -121.427277], [40.74194, -73.72838], [39.17206, -76.84651], [34.428284000000005, -119.73741], [25.895503, -80.170527], [35.89965, -78.61563000000002], [28.435979, -81.405638], [41.849432, -94.02832], [37.257009, -121.795753], [33.697139, -84.404641], [39.204761, -120.199463], [30.195118, -85.624928], [34.045718, -117.310348], [34.067262, -117.53694099999998], [35.91820999999999, -80.59999], [36.233269, -119.492784], [33.46183, -112.125188], [33.928989, -81.037312], [34.514664, -112.477553], [33.923339, -118.281162], [35.72499000000001, -78.65101], [33.930692, -118.364841], [34.91828, -114.15203], [45.30943, -93.63716], [33.604992, -117.691392], [33.707035999999995, -78.956695], [28.94309, -82.44680799999998], [25.49177, -80.45411999999997], [34.536703, -92.674739], [38.568809, -121.40313799999998], [39.3529, -77.015682], [41.48449, -71.73544], [41.9021, -88.10311999999998], [34.070879999999995, -117.51554], [38.615658, -76.879755], [33.82026, -118.19316], [44.414173, -122.029857], [37.68835, -122.1348], [38.696004, -90.463432], [28.363723, -81.68083299999998], [25.963158, -80.155089], [36.046432, -86.660703], [42.197362, -120.63974], [41.094869, -73.802544], [40.681328, -75.322265], [33.984759000000004, -117.365246], [43.351933, -115.961303], [39.772372, -104.828193], [36.920875, -119.793922], [34.06778, -117.97914], [37.80647, -121.99071], [39.423827, -77.25296], [45.813937, -108.354259], [38.537802, -121.738173], [42.2235, -84.362663], [37.94844000000001, -122.512632], [43.767071, -118.202938], [25.743114, -80.430389], [34.293426000000004, -118.413015], [32.908505, -96.929486], [41.094499, -73.802729], [33.27414, -86.79937], [40.71076, -74.22695999999998], [32.756883, -117.222074], [37.396368, -119.703627], [33.862517, -118.097574], [38.610638, -121.401529], [40.682924, -74.192785], [38.739974, -120.696747], [34.10938400000001, -117.528674], [40.842109, -74.431853], [45.520611, -122.56523], [28.449924, -81.479136], [32.902185, -96.838331], [35.084915, -85.057327], [38.495999, -121.454631], [34.15777, -118.45242], [42.408782, -92.165647], [40.84373, -73.89568], [33.92565, -118.321289], [28.206891, -82.666226], [30.377232, -97.442824], [28.44886, -81.465857], [29.768588, -95.354902], [38.69472, -121.225316], [28.54136, -81.41354], [34.49213, -118.62088], [29.821229, -81.376912], [34.134240000000005, -117.353164], [33.872875, -118.290904], [28.873065000000004, -82.51718000000002], [34.116014, -117.82393799999998], [30.978252, -82.770122], [38.474298, -121.418912], [37.470419, -121.909028], [34.168006, -118.49685], [25.868197, -80.236372], [42.35971, -87.90196999999998], [40.695767, -73.998225], [37.048483, -122.012385], [26.226651, -80.13651999999998], [45.019472, -123.947464], [40.662476, -111.93852], [36.966635, -119.911909], [44.09781, -123.136922], [35.24489000000001, -80.847541], [35.071760999999995, -81.760628], [41.42383, -81.52995], [35.141116, -80.932158], [37.704089, -121.929437], [33.569555, -79.032444], [33.918133000000005, -118.194159], [33.967846, -118.165418], [41.978641, -91.673172], [43.087118, -77.601425], [36.08571, -79.76687], [34.30577, -118.48217], [27.96541400000001, -82.415098], [25.757061, -80.394279], [38.138726, -122.220458], [41.86597, -87.64442], [44.829002, -123.229439], [34.13462, -117.335398], [34.13966, -117.95558], [39.26321, -76.567739], [39.152941, -77.54015], [32.206853, -110.961202], [29.011113, -81.06894], [34.042564, -84.033361], [32.412132, -93.889778], [32.609214, -97.321011], [31.346572, -89.352002], [40.822568, -97.210768], [39.088829, -76.995245], [33.89881, -84.248136], [32.72925, -117.10681], [39.17322, -77.2454], [34.060131, -118.455076], [35.126779, -85.022498], [38.85752, -77.37295], [30.497422, -97.592878], [33.466912, -117.669861], [29.77041, -95.45624], [44.822827, -92.947592], [34.0743, -118.271821], [27.608779, -82.647021], [34.258775, -119.113159], [35.402258, -77.900065], [25.703406, -80.309637], [25.796977, -80.31692199999998], [38.68522, -121.50803700000002], [36.75894, -76.308541], [34.06816, -117.60106299999998], [34.01807, -117.5245], [34.03783, -118.27272], [40.181361, -122.225542], [45.624083, -118.662436], [34.184898, -117.180843], [44.061838, -123.884743], [41.510521, -86.002114], [25.802051, -80.36931], [37.616262, -121.877384], [38.942229, -121.079341], [34.939925, -85.166015], [27.160896, -80.304168], [26.177011, -81.736012], [40.71352, -73.82415999999998], [44.543109, -92.996386], [32.573057, -117.079464], [37.376479, -84.327788], [37.328721, -122.052258], [35.123752, -85.122896], [44.88671, -93.442341], [47.56619, -122.18278], [47.083262, -122.665345], [39.343786, -121.659974], [47.000766, -114.477206], [30.371187, -97.692443], [34.148672, -118.046883], [25.793708, -80.321077], [38.96504, -77.4284], [39.12961, -84.47675], [37.176575, -113.29195], [37.474608, -77.429331], [38.481653, -121.413318], [37.37576, -121.93718], [33.5547, -86.83136], [38.910848, -77.02600000000002], [34.000157, -117.550168], [25.96374, -80.14678], [45.08737, -83.457063], [34.548435999999995, -112.399909], [41.94678, -88.20805], [28.449891, -81.482946], [29.84751, -95.3941], [44.4716, -117.33844], [35.006643, -117.708606], [28.085979, -80.70585600000003], [33.13134, -117.10543], [42.33756, -88.02409], [28.15769, -81.80781400000002], [33.706298, -117.323265], [27.33310800000001, -80.374361], [36.98396, -120.085834], [36.134149, -86.773299], [28.472602, -81.394669], [40.80517, -73.25563000000002], [25.689166, -80.35015200000002], [26.316897, -81.746217], [44.99668, -93.45804], [25.884795, -80.243217], [34.106701, -118.328536], [42.872342, -78.851805], [37.65146, -77.61179], [36.003689, -119.357694], [29.854875, -95.397631], [38.575648, -121.568267], [37.66351, -122.10607], [37.627376, -122.081256], [34.137179, -118.471512], [38.91678, -76.93264], [39.778071, -104.893995], [40.116883, -75.35218499999998], [26.547383, -81.786209], [37.37174, -121.84971000000002], [36.547006, -119.598527], [25.899235, -80.190842], [33.228488, -117.397792], [38.871635, -94.79565], [44.96602, -93.26571], [33.875911, -118.168782], [33.727278000000005, -87.38139699999998], [32.358696, -86.21576], [30.181858, -81.739396], [34.104019, -118.185113], [32.786658, -96.918965], [42.024167, -80.250828], [26.031063, -80.247401], [35.364345, -80.744596], [25.785266, -80.249923], [28.563575, -81.207145], [44.928975, -93.143557], [39.09857, -77.6448], [43.617971, -116.249901], [38.993655, -122.526265], [30.34875, -97.434618], [39.13461, -76.86754], [35.271181, -84.824327], [27.8937, -82.65007], [37.8974, -122.31172], [39.343475, -121.269557], [30.275013, -82.160684], [32.825928999999995, -96.624729], [33.70798, -117.8522], [33.964519, -117.549009], [25.949626, -80.330116], [30.421284000000004, -91.12477], [29.215275, -82.13679499999998], [40.763611, -73.953358], [35.383423, -119.121933], [33.461995, -112.139566], [39.634948, -75.656222], [39.019748, -76.960263], [28.568399, -81.282596], [43.593317, -116.430874], [32.770804, -117.11243799999998], [41.04053, -74.11409], [25.822605, -80.24887], [34.104228000000006, -118.322477], [26.964665000000004, -80.172139], [34.151782, -118.14548700000002], [43.11911, -124.40843], [39.38885, -76.726552], [25.626273, -80.382212], [33.426563, -117.149927], [37.582536, -122.509905], [33.776395, -79.13335500000002], [35.004082000000004, -85.218039], [45.496348, -94.161919], [40.171718, -75.074066], [39.28397, -110.9737], [25.781924, -80.288833], [44.787297, -93.247988], [32.88421, -96.69716], [40.281962, -77.076223], [25.634768, -80.436666], [36.02219, -106.95855], [38.822854, -76.883714], [32.76396, -117.20523], [32.95662, -117.14973], [35.387375, -119.044631], [40.66525, -73.996347], [31.90058, -106.44644], [39.378706, -77.24555], [41.50208, -87.74233000000002], [39.14707, -76.6451], [40.966488, -73.871135], [37.391159, -120.718], [32.975808, -80.003759], [38.812711, -76.060136], [44.81226, -122.78126], [41.535564, -72.816047], [36.854755, -121.63919], [39.684068, -75.586902], [38.7885, -77.17697700000002], [37.018142, -120.635613], [40.695074, -73.823676], [36.354328, -86.719797], [25.788227, -80.20334799999998], [33.522126, -111.887552], [25.806911, -80.31311600000002], [38.768521, -77.182622], [33.603525, -117.119359], [46.99763, -123.449619], [33.461517, -112.286075], [45.469547, -122.680453], [39.01913, -76.95899], [42.37745, -87.8307], [25.968747, -80.165592], [36.988286, -121.975878], [39.600145, -77.83214]],\n",
              "                {&quot;blur&quot;: 15, &quot;maxZoom&quot;: 18, &quot;minOpacity&quot;: 0.5, &quot;radius&quot;: 25}\n",
              "            ).addTo(map_97691592ceee38a57431513c675e8fe5);\n",
              "        \n",
              "&lt;/script&gt;\n",
              "&lt;/html&gt;\" style=\"position:absolute;width:100%;height:100%;left:0;top:0;border:none !important;\" allowfullscreen webkitallowfullscreen mozallowfullscreen></iframe></div></div>"
            ]
          },
          "metadata": {},
          "execution_count": 55
        }
      ]
    },
    {
      "cell_type": "markdown",
      "source": [
        "## Ask & Answer Questions\n",
        "\n",
        "1. Are more accident happening in warmer or colder area\n",
        "2. Which 5 states have highest number of accident? How about per capita\n",
        "3. does New York is in data\n",
        "4. how many cities belong to top 10 States with high accident\n",
        "5. What time of the day accident more frequent? - Answered\n",
        "6. Which day of the week accident \n",
        "7. Why are more accident in winter? "
      ],
      "metadata": {
        "id": "dUIW8wUo2GKQ"
      }
    },
    {
      "cell_type": "markdown",
      "source": [
        "## Summary & Conclutions\n",
        "\n",
        "Insights:\n",
        " - No Data from New York city\n",
        " - accident per city decreases exponetionaly\n",
        " - Less than 5% cities have more than 1000 yearly accidents\n",
        " - Over 1100+ cities reported only 1 accident\n",
        " - Most of the accident occures in winter"
      ],
      "metadata": {
        "id": "A42JR_dU2O3S"
      }
    },
    {
      "cell_type": "code",
      "source": [
        "import jovian"
      ],
      "metadata": {
        "id": "wCh-n-5I1klc"
      },
      "execution_count": null,
      "outputs": []
    },
    {
      "cell_type": "code",
      "source": [
        "jovian.commit()"
      ],
      "metadata": {
        "id": "Buqo5Wcj1kh0",
        "colab": {
          "base_uri": "https://localhost:8080/"
        },
        "outputId": "f3e1589a-f6e2-4f72-b6b4-2b5f55966ed7"
      },
      "execution_count": null,
      "outputs": [
        {
          "output_type": "stream",
          "name": "stdout",
          "text": [
            "[jovian] Detected Colab notebook...\u001b[0m\n",
            "[jovian] jovian.commit() is no longer required on Google Colab. If you ran this notebook from Jovian, \n",
            "then just save this file in Colab using Ctrl+S/Cmd+S and it will be updated on Jovian. \n",
            "Also, you can also delete this cell, it's no longer necessary.\u001b[0m\n"
          ]
        }
      ]
    },
    {
      "cell_type": "code",
      "source": [],
      "metadata": {
        "id": "Xx3JmHKQ1keE"
      },
      "execution_count": null,
      "outputs": []
    }
  ],
  "metadata": {
    "kernelspec": {
      "display_name": "Python 3",
      "language": "python",
      "name": "python3"
    },
    "language_info": {
      "codemirror_mode": {
        "name": "ipython",
        "version": 3
      },
      "file_extension": ".py",
      "mimetype": "text/x-python",
      "name": "python",
      "nbconvert_exporter": "python",
      "pygments_lexer": "ipython3",
      "version": "3.7.6"
    },
    "colab": {
      "provenance": [],
      "include_colab_link": true
    },
    "gpuClass": "standard"
  },
  "nbformat": 4,
  "nbformat_minor": 0
}